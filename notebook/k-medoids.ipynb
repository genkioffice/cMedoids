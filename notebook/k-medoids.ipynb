{
 "cells": [
  {
   "cell_type": "code",
   "execution_count": 1,
   "metadata": {},
   "outputs": [],
   "source": [
    "import sys\n",
    "import pandas as pd\n",
    "import numpy as np\n",
    "import matplotlib \n",
    "from matplotlib import pyplot as plt\n",
    "from scipy.spatial.distance import pdist\n",
    "%matplotlib inline\n",
    "sys.path.append(\"./../model/\")\n",
    "# from kmeans import kmeans"
   ]
  },
  {
   "cell_type": "code",
   "execution_count": null,
   "metadata": {},
   "outputs": [],
   "source": [
    "pdist(metric=\"cosine\")"
   ]
  },
  {
   "cell_type": "code",
   "execution_count": 2,
   "metadata": {},
   "outputs": [
    {
     "ename": "SyntaxError",
     "evalue": "invalid syntax (<ipython-input-2-0f692321195e>, line 63)",
     "output_type": "error",
     "traceback": [
      "\u001b[0;36m  File \u001b[0;32m\"<ipython-input-2-0f692321195e>\"\u001b[0;36m, line \u001b[0;32m63\u001b[0m\n\u001b[0;31m    for\u001b[0m\n\u001b[0m        ^\u001b[0m\n\u001b[0;31mSyntaxError\u001b[0m\u001b[0;31m:\u001b[0m invalid syntax\n"
     ]
    }
   ],
   "source": [
    "class kMedoids(object):\n",
    "    def __init__(self,data,initMedoids):\n",
    "        self.initM = initMedoids\n",
    "        self.medoids = initMedoids\n",
    "        self.numC = len(initCentroids)\n",
    "        self.data = data\n",
    "        self.r = np.zeros([data.shape[0],self.initM.shape[0]])\n",
    "        self.dim = data.shape[1]\n",
    "\n",
    "    #Expectation\n",
    "    def getBestMedoidsAll(self,medoids):\n",
    "        #全データからセントロイドまでの距離を測り、最短のものを返す。\n",
    "        pair = []\n",
    "        self.r = np.zeros([data.shape[0],self.init.shape[0]])\n",
    "        for n_data in range(len(self.data)):\n",
    "            iClu = self._getBestMedoids(one_data=data[n_data],medoids=medoids)\n",
    "            #Rの更新を行う\n",
    "            self.r[n_data,iClu-1] = 1\n",
    "        return None\n",
    "\n",
    "    \n",
    "    def _getBestMedoids(self,one_data,medoids):\n",
    "        #各点からセントロイドまでの距離を測って、最小のものを取り出す。\n",
    "        tmp = []\n",
    "        for j in range(len(medoids)):\n",
    "            dis = self._distance(one_data,medoids[j])\n",
    "            tmp.append(dis)\n",
    "        result = min(tmp)\n",
    "        index = tmp.index(result)\n",
    "        return index\n",
    "\n",
    "    def  _distance(self,arr,ini):\n",
    "#         return np.linalg.norm(np.abs(ini - arr))\n",
    "        return pdist\n",
    "\n",
    "    #Maximization\n",
    "    def medoidCluster(self):\n",
    "        summutation = np.dot(self.data.transpose(),self.r)\n",
    "        if not np.any(sum(self.r) == 0):\n",
    "            centroids = (summutation / sum(self.r)).transpose()\n",
    "            self.centroids = centroids\n",
    "            return None\n",
    "        else:\n",
    "            print(\"error\")\n",
    "            #クラスタ内に一つもデータがない場合はそのクラスタの中心を不動にする\n",
    "#             zero_ind = np.where(sum(self.r)==0)[0]\n",
    "#             pre_centroids = centroids.transpose()[zero_ind]\n",
    "            pass\n",
    "            \n",
    "    #display\n",
    "    def plot(self,centroids,label=''):\n",
    "        arr = arr = np.array([i for i in centroids])\n",
    "        x = arr[:,0]\n",
    "        y = arr[:,1]\n",
    "        plt.plot(x,y,'o',label=label)\n",
    "        print(centroids)\n",
    "        plt.legend()\n",
    "\n",
    "    #収束判定をするために、評価関数を作る\n",
    "    def _J2(self):\n",
    "        result = 0\n",
    "        for c in range(len(self.medioids)):\n",
    "            for \n",
    "            result += np.linalg.norm(self.data[n] - self.centroids[k])\n",
    "        return result\n",
    "    \n",
    "    #main\n",
    "    def fit():\n",
    "        J = 1000000\n",
    "        Js = [J]\n",
    "        init = _getInitValues(3,mini=10,maxi=30)\n",
    "        km = kMedoids(data=pd.DataFrame(data), initCentroids=pd.DataFrame(init))\n",
    "        plt.scatter(data[:,0],data[:,1],marker=\"+\",color=\"gray\")\n",
    "        km.plot(km.centroids,label=0)\n",
    "        for _iter in range(100):\n",
    "            km.getBestCentroidAll(km.centroids)\n",
    "            km.meanCluster()\n",
    "            km.plot(km.centroids,label=_iter+1)\n",
    "            if Js[-1] - km.J() <100:\n",
    "                print(Js)\n",
    "                break\n",
    "            Js.append(km.J())"
   ]
  },
  {
   "cell_type": "code",
   "execution_count": null,
   "metadata": {},
   "outputs": [],
   "source": [
    "data = np.loadtxt(\"../data/faithful.txt\")"
   ]
  },
  {
   "cell_type": "code",
   "execution_count": null,
   "metadata": {},
   "outputs": [],
   "source": [
    "def _getInitValues(num,mini=-100,maxi=100):\n",
    "    centroids = []\n",
    "    if mini > maxi:\n",
    "        raise ValueError('maxi should be greater than mini')\n",
    "    else:\n",
    "        for i in range(num):\n",
    "            meanBtw = (maxi - mini)/ 2 + mini\n",
    "            distance = maxi - meanBtw\n",
    "            result = (np.random.rand(2) - 0.5) * distance * 2 + meanBtw\n",
    "            centroids.append(result)\n",
    "        return centroids"
   ]
  },
  {
   "cell_type": "code",
   "execution_count": null,
   "metadata": {},
   "outputs": [],
   "source": [
    "init = _getInitValues(2,mini=10,maxi=40)"
   ]
  },
  {
   "cell_type": "code",
   "execution_count": null,
   "metadata": {},
   "outputs": [],
   "source": [
    "J = 1000000\n",
    "Js = [J]\n",
    "init = _getInitValues(3,mini=10,maxi=30)\n",
    "km = kMeans(data=pd.DataFrame(data), initCentroids=pd.DataFrame(init))\n",
    "plt.scatter(data[:,0],data[:,1],marker=\"+\",color=\"gray\")\n",
    "km.plot(km.centroids,label=0)\n",
    "for _iter in range(100):\n",
    "    km.getBestCentroidAll(km.centroids)\n",
    "    km.meanCluster()\n",
    "    km.plot(km.centroids,label=_iter+1)\n",
    "    if Js[-1] - km.J() <100:\n",
    "        print(Js)\n",
    "        break\n",
    "    Js.append(km.J())"
   ]
  },
  {
   "cell_type": "code",
   "execution_count": null,
   "metadata": {},
   "outputs": [],
   "source": [
    "data.shape"
   ]
  },
  {
   "cell_type": "code",
   "execution_count": null,
   "metadata": {},
   "outputs": [],
   "source": [
    "init = _getInitValues(3,mini=10,maxi=30)"
   ]
  },
  {
   "cell_type": "code",
   "execution_count": null,
   "metadata": {},
   "outputs": [],
   "source": [
    "init"
   ]
  },
  {
   "cell_type": "code",
   "execution_count": null,
   "metadata": {},
   "outputs": [],
   "source": []
  }
 ],
 "metadata": {
  "kernelspec": {
   "display_name": "Python [default]",
   "language": "python",
   "name": "python3"
  },
  "language_info": {
   "codemirror_mode": {
    "name": "ipython",
    "version": 3
   },
   "file_extension": ".py",
   "mimetype": "text/x-python",
   "name": "python",
   "nbconvert_exporter": "python",
   "pygments_lexer": "ipython3",
   "version": "3.5.5"
  },
  "toc": {
   "base_numbering": 1,
   "nav_menu": {},
   "number_sections": true,
   "sideBar": true,
   "skip_h1_title": false,
   "title_cell": "Table of Contents",
   "title_sidebar": "Contents",
   "toc_cell": false,
   "toc_position": {},
   "toc_section_display": true,
   "toc_window_display": false
  }
 },
 "nbformat": 4,
 "nbformat_minor": 2
}
