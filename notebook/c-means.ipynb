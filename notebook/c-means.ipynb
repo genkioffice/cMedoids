{
 "cells": [
  {
   "cell_type": "markdown",
   "metadata": {},
   "source": [
    "# implement c-means"
   ]
  },
  {
   "cell_type": "code",
   "execution_count": 38,
   "metadata": {},
   "outputs": [],
   "source": [
    "import sys\n",
    "import pandas as pd\n",
    "import numpy as np\n",
    "from  scipy.spatial.distance import pdist\n",
    "import matplotlib \n",
    "from matplotlib import pyplot as plt\n",
    "from scipy.spatial.distance import pdist\n",
    "%matplotlib inline\n",
    "sys.path.append(\"./../model/\")\n",
    "# from kmeans import kmeans"
   ]
  },
  {
   "cell_type": "code",
   "execution_count": 144,
   "metadata": {},
   "outputs": [],
   "source": [
    "class cMeans(object):\n",
    "    def __init__(self,data,centers,weight):\n",
    "        self.centers = centers #列が各データで、行が各センターを表す\n",
    "        self.pre_centers = centers # 評価関数で比較するために前のcentersをとっておく\n",
    "        self.new_centers = np.zeros(self.centers.shape) #更新するためのcenters\n",
    "        self.numC = self.centers.shape[1] #centerの列の数を表す\n",
    "        self.data = data # 要素* データ数(列ベクトル)\n",
    "        self.numD = self.data.shape[1] #dataの列にデータの個数が来る\n",
    "        self.U = np.random.dirichlet(np.ones(self.numC),size=self.numD).T # numC行, numD列 縦にsumすると1.0である\n",
    "        self.m = weight\n",
    "\n",
    "    # calculate means\n",
    "    def means(self):\n",
    "        for i in range(self.numC):\n",
    "            upper_sum = []\n",
    "            under_sum = []\n",
    "            for k in range(self.numD):\n",
    "                upper_sum.append((self.U[i][k] **self.m)* self.data[:,k])\n",
    "                under_sum.append(self.U[i][k] **self.m)\n",
    "            result = (sum(upper_sum))/ (sum(under_sum))\n",
    "            self.new_centers[:,i] = result #new_centersのi列にi番目のclusterセンターを代入\n",
    "        return None\n",
    "                \n",
    "                \n",
    "    # membership \n",
    "    def members(self):\n",
    "        for k in range(self.numD):\n",
    "            for i in range(self.numC):\n",
    "                sum_tmp_0 = []\n",
    "                for j in range(self.numC):\n",
    "#                     diff_jk = self.data[:,k] - self.centers[:,j]\n",
    "#                     diff_ik = self.data[:,k] - self.centers[:,i]\n",
    "                    under = self.dist(self.data[:,k],self.centers[:,j]) #d_jk\n",
    "                    upper = self.dist(self.data[:,k],self.centers[:,i]) #d_ik... j_for文内で定数\n",
    "                    tmp_0 = (upper/under) ** (2/(self.m-1))\n",
    "                    sum_tmp_0.append(tmp_0)\n",
    "                result = (sum(sum_tmp_0)) ** (-1)\n",
    "                self.U[i][k] = result\n",
    "        return None\n",
    "\n",
    "    \n",
    "    # 引き数は計算前のmatrix\n",
    "    def dist(self,y,v):\n",
    "        # return norm\n",
    "        return pdist([y,v],'minkowski', 2) \n",
    "    \n",
    "    \n",
    "    \n",
    "    def getBestMedoidsAll(self,medoids):\n",
    "        #全データからセントロイドまでの距離を測り、最短のものを返す。\n",
    "        pair = []\n",
    "        self.r = np.zeros([data.shape[0],self.init.shape[0]])\n",
    "        for n_data in range(len(self.data)):\n",
    "            iClu = self._getBestMedoids(one_data=data[n_data],medoids=medoids)\n",
    "            #Rの更新を行う\n",
    "            self.r[n_data,iClu-1] = 1\n",
    "        return None\n",
    "\n",
    "    \n",
    "    def _getBestMedoids(self,one_data,medoids):\n",
    "        #各点からセントロイドまでの距離を測って、最小のものを取り出す。\n",
    "        tmp = []\n",
    "        for j in range(len(medoids)):\n",
    "            dis = self._distance(one_data,medoids[j])\n",
    "            tmp.append(dis)\n",
    "        result = min(tmp)\n",
    "        index = tmp.index(result)\n",
    "        return index\n"
   ]
  },
  {
   "cell_type": "code",
   "execution_count": 137,
   "metadata": {},
   "outputs": [],
   "source": [
    "def _getInitValues(num,mini=-100,maxi=100):\n",
    "    centroids = []\n",
    "    if mini > maxi:\n",
    "        raise ValueError('maxi should be greater than mini')\n",
    "    else:\n",
    "        for i in range(num):\n",
    "            meanBtw = (maxi - mini)/ 2 + mini\n",
    "            distance = maxi - meanBtw\n",
    "            result = (np.random.rand(2) - 0.5) * distance * 2 + meanBtw\n",
    "            centroids.append(result)\n",
    "        return centroids"
   ]
  },
  {
   "cell_type": "code",
   "execution_count": 149,
   "metadata": {
    "scrolled": true
   },
   "outputs": [],
   "source": [
    "data = np.loadtxt(\"../data/faithful.txt\")\n",
    "data = np.array(data).T\n",
    "#initial centroids\n",
    "centroids = _getInitValues(3,mini=10,maxi=30)\n",
    "centroids = np.array(centroids).T\n",
    "# centroids = np.array(centroids)\n",
    "cmeans = cMeans(data=data,centers=centroids,weight=2)"
   ]
  },
  {
   "cell_type": "code",
   "execution_count": 150,
   "metadata": {},
   "outputs": [],
   "source": [
    "cmeans.means()"
   ]
  },
  {
   "cell_type": "code",
   "execution_count": null,
   "metadata": {},
   "outputs": [],
   "source": []
  }
 ],
 "metadata": {
  "kernelspec": {
   "display_name": "Python [conda env:kMeans]",
   "language": "python",
   "name": "conda-env-kMeans-py"
  },
  "language_info": {
   "codemirror_mode": {
    "name": "ipython",
    "version": 3
   },
   "file_extension": ".py",
   "mimetype": "text/x-python",
   "name": "python",
   "nbconvert_exporter": "python",
   "pygments_lexer": "ipython3",
   "version": "3.5.4"
  },
  "toc": {
   "base_numbering": 1,
   "nav_menu": {},
   "number_sections": true,
   "sideBar": true,
   "skip_h1_title": false,
   "title_cell": "Table of Contents",
   "title_sidebar": "Contents",
   "toc_cell": false,
   "toc_position": {},
   "toc_section_display": true,
   "toc_window_display": false
  }
 },
 "nbformat": 4,
 "nbformat_minor": 2
}
