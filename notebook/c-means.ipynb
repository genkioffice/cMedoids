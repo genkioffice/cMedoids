{
 "cells": [
  {
   "cell_type": "markdown",
   "metadata": {},
   "source": [
    "# implement c-means"
   ]
  },
  {
   "cell_type": "code",
   "execution_count": 246,
   "metadata": {},
   "outputs": [],
   "source": [
    "import sys\n",
    "import pandas as pd\n",
    "import numpy as np\n",
    "from  scipy.spatial.distance import pdist\n",
    "import matplotlib \n",
    "from matplotlib import pyplot as plt\n",
    "from scipy.spatial.distance import pdist\n",
    "%matplotlib inline\n",
    "sys.path.append(\"./../model/\")\n",
    "# from kmeans import kmeans\n",
    "import copy"
   ]
  },
  {
   "cell_type": "code",
   "execution_count": 325,
   "metadata": {
    "scrolled": true
   },
   "outputs": [
    {
     "data": {
      "text/plain": [
       "(3, 272)"
      ]
     },
     "execution_count": 325,
     "metadata": {},
     "output_type": "execute_result"
    }
   ],
   "source": [
    "cmeans.U.shape"
   ]
  },
  {
   "cell_type": "code",
   "execution_count": 344,
   "metadata": {},
   "outputs": [],
   "source": [
    "class cMeans(object):\n",
    "    def __init__(self,data,centers,weight):\n",
    "        self.centers = centers #列が各データで、行が各センターを表す\n",
    "        self.pre_centers = centers # 評価関数で比較するために前のcentersをとっておく\n",
    "        self.new_centers = np.zeros(self.centers.shape) #更新するためのcenters\n",
    "        self.numC = self.centers.shape[1] #centerの列の数を表す\n",
    "        self.data = data # 要素* データ数(列ベクトル)\n",
    "        self.numD = self.data.shape[1] #dataの列にデータの個数が来る\n",
    "        self.U = np.random.dirichlet(np.ones(self.numC),size=self.numD).T # numC行, numD列 縦にsumすると1.0である\n",
    "        self.pre_U = copy.deepcopy(self.U)\n",
    "        self.m = weight\n",
    "        self.diff_U = 10000\n",
    "        \n",
    "        # update self.U\n",
    "        self._members()\n",
    "\n",
    "    # calculate means\n",
    "    def means(self):\n",
    "        self.pre_centers = copy.deepcopy(self.new_centers) # update previous new_centers\n",
    "        for i in range(self.numC):\n",
    "            upper_sum = []\n",
    "            under_sum = []\n",
    "            for k in range(self.numD):\n",
    "                upper_sum.append((self.U[i][k] **self.m)* self.data[:,k])\n",
    "                under_sum.append(self.U[i][k] **self.m)\n",
    "            result = (sum(upper_sum))/ (sum(under_sum))\n",
    "            self.new_centers[:,i] = result #new_centersのi列にi番目のclusterセンターを代入\n",
    "        return None\n",
    "                \n",
    "                \n",
    "    # membership \n",
    "    def _members(self):\n",
    "        self.pre_U = copy.deepcopy(self.U) # update previous self.U\n",
    "        for k in range(self.numD):\n",
    "            for i in range(self.numC):\n",
    "                sum_tmp_0 = []\n",
    "                for j in range(self.numC):\n",
    "                    under = self.dist(self.data[:,k],self.centers[:,j]) #d_jk\n",
    "                    upper = self.dist(self.data[:,k],self.centers[:,i]) #d_ik... j_for文内で定数\n",
    "                    tmp_0 = (upper/under) ** (2/(self.m-1))\n",
    "                    sum_tmp_0.append(tmp_0)\n",
    "                result = (sum(sum_tmp_0)) ** (-1)\n",
    "                self.U[i][k] = result\n",
    "        return None\n",
    "    \n",
    "    \n",
    "    def members(self):\n",
    "        self.pre_U = copy.deepcopy(self.U) # update previous self.U\n",
    "        for k in range(self.numD):\n",
    "            for i in range(self.numC):\n",
    "                sum_tmp_0 = []\n",
    "                for j in range(self.numC):\n",
    "                    under = self.dist(self.data[:,k],self.new_centers[:,j]) #d_jk\n",
    "                    upper = self.dist(self.data[:,k],self.new_centers[:,i]) #d_ik... j_for文内で定数\n",
    "                    tmp_0 = (upper/under) ** (2/(self.m-1))\n",
    "                    sum_tmp_0.append(tmp_0)\n",
    "                result = (sum(sum_tmp_0)) ** (-1)\n",
    "                self.U[i][k] = result\n",
    "        return None\n",
    "\n",
    "    \n",
    "    # 引き数は計算前のmatrix\n",
    "    def dist(self,y,v):\n",
    "        # return norm\n",
    "        return pdist([y,v],'minkowski', 2) \n",
    "    \n",
    "\n",
    "    def estimate(self):\n",
    "        diff_U = np.absolute(self.U - self.pre_U)\n",
    "        diff_U = diff_U.sum()\n",
    "        self.diff_U = diff_U\n",
    "        return None\n",
    "    \n",
    "    def fit(self):\n",
    "        i= 0\n",
    "        while self.diff_U > 0.001:\n",
    "            self.means()\n",
    "            self.members()\n",
    "            self.estimate()\n",
    "            i += 1\n",
    "            print(\"{}-th iteration\".format(i))\n",
    "            print(\"U difference is {}\".format(self.diff_U))\n",
    "    "
   ]
  },
  {
   "cell_type": "code",
   "execution_count": 346,
   "metadata": {},
   "outputs": [],
   "source": [
    "def _getInitValues(num,mini=-100,maxi=100):\n",
    "    centroids = []\n",
    "    if mini > maxi:\n",
    "        raise ValueError('maxi should be greater than mini')\n",
    "    else:\n",
    "        for i in range(num):\n",
    "            meanBtw = (maxi - mini)/ 2 + mini\n",
    "            distance = maxi - meanBtw\n",
    "            result = (np.random.rand(2) - 0.5) * distance * 2 + meanBtw\n",
    "            centroids.append(result)\n",
    "        return centroids"
   ]
  },
  {
   "cell_type": "code",
   "execution_count": 370,
   "metadata": {
    "scrolled": true
   },
   "outputs": [],
   "source": [
    "data = np.loadtxt(\"../data/faithful.txt\")\n",
    "data = np.array(data).T\n",
    "#initial centroids\n",
    "centroids = _getInitValues(3,mini=10,maxi=30)\n",
    "centroids = np.array(centroids).T\n",
    "# centroids = np.array(centroids)\n",
    "cmeans = cMeans(data=data,centers=centroids,weight=2)"
   ]
  },
  {
   "cell_type": "code",
   "execution_count": 368,
   "metadata": {},
   "outputs": [],
   "source": [
    "cmeans.means()\n",
    "cmeans.members()\n",
    "cmeans.means()"
   ]
  },
  {
   "cell_type": "code",
   "execution_count": 355,
   "metadata": {},
   "outputs": [
    {
     "data": {
      "text/plain": [
       "array([[ 3.47533713,  3.44942591,  3.5381916 ],\n",
       "       [70.77700038, 70.5139401 , 71.3763724 ]])"
      ]
     },
     "execution_count": 355,
     "metadata": {},
     "output_type": "execute_result"
    }
   ],
   "source": [
    "cmeans.new_centers"
   ]
  },
  {
   "cell_type": "code",
   "execution_count": 356,
   "metadata": {},
   "outputs": [
    {
     "data": {
      "text/plain": [
       "array([[ 3.48582178,  3.47759731,  3.49806293],\n",
       "       [70.86009802, 70.79334246, 71.01791492]])"
      ]
     },
     "execution_count": 356,
     "metadata": {},
     "output_type": "execute_result"
    }
   ],
   "source": [
    "cmeans.pre_centers"
   ]
  },
  {
   "cell_type": "code",
   "execution_count": 369,
   "metadata": {},
   "outputs": [
    {
     "data": {
      "text/plain": [
       "<matplotlib.collections.PathCollection at 0x1109fe198>"
      ]
     },
     "execution_count": 369,
     "metadata": {},
     "output_type": "execute_result"
    },
    {
     "data": {
      "image/png": "[encoded data removed]",
      "text/plain": [
       "<Figure size 432x288 with 1 Axes>"
      ]
     },
     "metadata": {
      "needs_background": "light"
     },
     "output_type": "display_data"
    }
   ],
   "source": [
    "plt.scatter(data[0,:],data[1,:])\n",
    "plt.scatter(cmeans.new_centers[0,:],cmeans.new_centers[1,:])"
   ]
  },
  {
   "cell_type": "code",
   "execution_count": 371,
   "metadata": {},
   "outputs": [
    {
     "name": "stdout",
     "output_type": "stream",
     "text": [
      "1-th iteration\n",
      "U difference is 67.45050391187804\n",
      "2-th iteration\n",
      "U difference is 92.76200761016047\n",
      "3-th iteration\n",
      "U difference is 135.41105205990397\n",
      "4-th iteration\n",
      "U difference is 90.35883645043474\n",
      "5-th iteration\n",
      "U difference is 41.218281051185976\n",
      "6-th iteration\n",
      "U difference is 16.867982550681287\n",
      "7-th iteration\n",
      "U difference is 9.77209973305841\n",
      "8-th iteration\n",
      "U difference is 8.76604531572415\n",
      "9-th iteration\n",
      "U difference is 9.16764920023755\n",
      "10-th iteration\n",
      "U difference is 9.81810396964865\n",
      "11-th iteration\n",
      "U difference is 10.53487558136829\n",
      "12-th iteration\n",
      "U difference is 11.209159631324537\n",
      "13-th iteration\n",
      "U difference is 11.712614654807386\n",
      "14-th iteration\n",
      "U difference is 11.99154175947169\n",
      "15-th iteration\n",
      "U difference is 11.910612547930036\n",
      "16-th iteration\n",
      "U difference is 11.366663214800084\n",
      "17-th iteration\n",
      "U difference is 10.363419470663814\n",
      "18-th iteration\n",
      "U difference is 9.036612978570556\n",
      "19-th iteration\n",
      "U difference is 7.642623411661811\n",
      "20-th iteration\n",
      "U difference is 6.226108233192704\n",
      "21-th iteration\n",
      "U difference is 4.930758760388633\n",
      "22-th iteration\n",
      "U difference is 3.8429395753455564\n",
      "23-th iteration\n",
      "U difference is 2.943646021229914\n",
      "24-th iteration\n",
      "U difference is 2.2268517109411015\n",
      "25-th iteration\n",
      "U difference is 1.6697966778017599\n",
      "26-th iteration\n",
      "U difference is 1.2442665138602065\n",
      "27-th iteration\n",
      "U difference is 0.923064891239608\n",
      "28-th iteration\n",
      "U difference is 0.6826136431504033\n",
      "29-th iteration\n",
      "U difference is 0.5036526503358925\n",
      "30-th iteration\n",
      "U difference is 0.37100245079123395\n",
      "31-th iteration\n",
      "U difference is 0.27296612235198653\n",
      "32-th iteration\n",
      "U difference is 0.2006633589737035\n",
      "33-th iteration\n",
      "U difference is 0.14741997691187347\n",
      "34-th iteration\n",
      "U difference is 0.10825476156531723\n",
      "35-th iteration\n",
      "U difference is 0.07946820677723082\n",
      "36-th iteration\n",
      "U difference is 0.05832226265427709\n",
      "37-th iteration\n",
      "U difference is 0.04279550564394449\n",
      "38-th iteration\n",
      "U difference is 0.03139825229259759\n",
      "39-th iteration\n",
      "U difference is 0.023034108819560483\n",
      "40-th iteration\n",
      "U difference is 0.016896900187437346\n",
      "41-th iteration\n",
      "U difference is 0.012394255509075414\n",
      "42-th iteration\n",
      "U difference is 0.00909112363445136\n",
      "43-th iteration\n",
      "U difference is 0.006668109796250113\n",
      "44-th iteration\n",
      "U difference is 0.00489079168947351\n",
      "45-th iteration\n",
      "U difference is 0.0035871469503493884\n",
      "46-th iteration\n",
      "U difference is 0.0026309613240582588\n",
      "47-th iteration\n",
      "U difference is 0.0019296400591938207\n",
      "48-th iteration\n",
      "U difference is 0.0014152579956204373\n",
      "49-th iteration\n",
      "U difference is 0.00103798976167805\n",
      "50-th iteration\n",
      "U difference is 0.0007612883146130366\n"
     ]
    }
   ],
   "source": [
    "cmeans.fit()"
   ]
  },
  {
   "cell_type": "code",
   "execution_count": 321,
   "metadata": {},
   "outputs": [
    {
     "data": {
      "text/plain": [
       "array([[ 3.48897608,  3.50164567,  3.47239002],\n",
       "       [70.90954251, 71.07518028, 70.70200163]])"
      ]
     },
     "execution_count": 321,
     "metadata": {},
     "output_type": "execute_result"
    }
   ],
   "source": [
    "cmeans.new_centers"
   ]
  },
  {
   "cell_type": "code",
   "execution_count": 375,
   "metadata": {
    "scrolled": true
   },
   "outputs": [
    {
     "data": {
      "text/plain": [
       "<matplotlib.collections.PathCollection at 0x110c568d0>"
      ]
     },
     "execution_count": 375,
     "metadata": {},
     "output_type": "execute_result"
    },
    {
     "data": {
      "image/png": "[encoded data removed]",
      "text/plain": [
       "<Figure size 432x288 with 1 Axes>"
      ]
     },
     "metadata": {
      "needs_background": "light"
     },
     "output_type": "display_data"
    }
   ],
   "source": [
    "plt.scatter(data[0,:],data[1,:])\n",
    "plt.scatter(cmeans.new_centers[0,:],cmeans.new_centers[1,:])\n",
    "# plt.scatter(cm_result[0][:,0],cm_result[0][:,1])"
   ]
  },
  {
   "cell_type": "code",
   "execution_count": null,
   "metadata": {},
   "outputs": [],
   "source": [
    "plt.scatter(cm_result[0][:,0],cm_result[0][:,1])"
   ]
  },
  {
   "cell_type": "code",
   "execution_count": 309,
   "metadata": {},
   "outputs": [
    {
     "data": {
      "text/plain": [
       "array([[0.35983919, 0.31187939, 0.35675266, 0.33832776, 0.36319726,\n",
       "        0.32115613, 0.36372049, 0.361318  , 0.29829713, 0.36282689,\n",
       "        0.3120351 , 0.36180183, 0.36097277, 0.27208507, 0.36330721,\n",
       "        0.3045294 , 0.33621602, 0.363643  , 0.30177783, 0.36141691,\n",
       "        0.29756658, 0.27208507, 0.35909576, 0.35183209, 0.36018978,\n",
       "        0.36094779, 0.31669704, 0.35988454, 0.36009351, 0.36186435,\n",
       "        0.35895219, 0.36130617, 0.34931502, 0.36118489, 0.35817316,\n",
       "        0.30378684, 0.27968674, 0.36308103, 0.32921995, 0.36390212,\n",
       "        0.36193331, 0.32655428, 0.3631551 , 0.32597437, 0.35965069,\n",
       "        0.36034688, 0.34822141, 0.30894396, 0.36300577, 0.32993471,\n",
       "        0.36142212, 0.36378504, 0.3120351 , 0.36308103, 0.31156456,\n",
       "        0.36370322, 0.35577346, 0.33986886, 0.36156825, 0.36209506,\n",
       "        0.33094407, 0.36301507, 0.27913625, 0.36337847, 0.33180378,\n",
       "        0.36324339, 0.36088963, 0.36223862, 0.34305779, 0.36015368,\n",
       "        0.36167409, 0.32039771, 0.36202852, 0.35666979, 0.33713215,\n",
       "        0.36255475, 0.3326375 , 0.36190081, 0.35934824, 0.36094779,\n",
       "        0.35955352, 0.36233847, 0.35619085, 0.34513655, 0.35825753,\n",
       "        0.36415277, 0.35952766, 0.36232914, 0.28113759, 0.36224434,\n",
       "        0.33340873, 0.36311716, 0.29229481, 0.36253645, 0.33859502,\n",
       "        0.35832503, 0.36336432, 0.35849254, 0.29789149, 0.36360206,\n",
       "        0.33913486, 0.36310446, 0.28737518, 0.36287552, 0.36148468,\n",
       "        0.27262047, 0.36343342, 0.30264953, 0.36391238, 0.36064992,\n",
       "        0.36123325, 0.33123693, 0.36410657, 0.36182518, 0.3286559 ,\n",
       "        0.36282071, 0.29453753, 0.36333307, 0.32915185, 0.36313816,\n",
       "        0.31153675, 0.35519553, 0.36073915, 0.32039771, 0.36353527,\n",
       "        0.36084054, 0.25705588, 0.36270958, 0.31812314, 0.36366978,\n",
       "        0.25684562, 0.36215937, 0.32435353, 0.36308749, 0.26486295,\n",
       "        0.36244948, 0.29796941, 0.36407614, 0.30861653, 0.36016052,\n",
       "        0.36190275, 0.33354865, 0.36278302, 0.36222559, 0.36055803,\n",
       "        0.32986162, 0.36260472, 0.28696569, 0.36415363, 0.30749296,\n",
       "        0.36279594, 0.36008884, 0.34427482, 0.36274477, 0.3553012 ,\n",
       "        0.35586121, 0.36251487, 0.36272301, 0.30749296, 0.36243275,\n",
       "        0.25828146, 0.36253747, 0.32706858, 0.36005095, 0.34980845,\n",
       "        0.3612349 , 0.34065755, 0.36427727, 0.30337563, 0.36357622,\n",
       "        0.28647774, 0.3243237 , 0.36161023, 0.35164957, 0.36175183,\n",
       "        0.36213171, 0.35955153, 0.29505122, 0.36212091, 0.35913138,\n",
       "        0.31630365, 0.36161023, 0.36233756, 0.3613036 , 0.29870626,\n",
       "        0.36156125, 0.36214632, 0.26486295, 0.36269671, 0.31772049,\n",
       "        0.3632056 , 0.3231973 , 0.36182514, 0.36218164, 0.36000064,\n",
       "        0.36190275, 0.3614016 , 0.36104197, 0.29979255, 0.36215473,\n",
       "        0.3329863 , 0.3623762 , 0.36279412, 0.30781365, 0.36198455,\n",
       "        0.26464339, 0.36104458, 0.36166302, 0.28655542, 0.36287552,\n",
       "        0.35164402, 0.36276412, 0.28623597, 0.35872171, 0.34655653,\n",
       "        0.36028822, 0.31043414, 0.36382601, 0.31685229, 0.3600647 ,\n",
       "        0.29229481, 0.36219205, 0.31164428, 0.36053079, 0.36046964,\n",
       "        0.3610926 , 0.36067821, 0.36114174, 0.35558831, 0.36215116,\n",
       "        0.35613475, 0.31486267, 0.36260204, 0.29402946, 0.36332093,\n",
       "        0.31227186, 0.31211549, 0.36082523, 0.36068646, 0.34235335,\n",
       "        0.35960082, 0.27492845, 0.36407614, 0.34276844, 0.3632986 ,\n",
       "        0.36123284, 0.3243237 , 0.36241395, 0.34628155, 0.3596595 ,\n",
       "        0.31379604, 0.36276778, 0.35678008, 0.35955153, 0.36270419,\n",
       "        0.3606772 , 0.35640619, 0.36276778, 0.32054995, 0.36149749,\n",
       "        0.3624091 , 0.36308403, 0.32640993, 0.36233756, 0.23919209,\n",
       "        0.33362083, 0.36128115, 0.3616376 , 0.26629632, 0.36326344,\n",
       "        0.2647925 , 0.35999829],\n",
       "       [0.38977974, 0.46878617, 0.39798089, 0.43037513, 0.38138653,\n",
       "        0.46025931, 0.37830801, 0.38255464, 0.48855901, 0.38161872,\n",
       "        0.4687119 , 0.38322859, 0.39025568, 0.52314525, 0.38328929,\n",
       "        0.4808905 , 0.43153957, 0.3820768 , 0.48211623, 0.38880499,\n",
       "        0.48886692, 0.52314525, 0.39141166, 0.408569  , 0.39586308,\n",
       "        0.38475764, 0.46257932, 0.39340351, 0.39080005, 0.38852559,\n",
       "        0.3980339 , 0.39126151, 0.4154715 , 0.38781277, 0.39711457,\n",
       "        0.48123135, 0.51352501, 0.38662573, 0.44314693, 0.37648586,\n",
       "        0.38734704, 0.44749024, 0.3823843 , 0.44779228, 0.39759772,\n",
       "        0.38512542, 0.42013877, 0.47434145, 0.38451086, 0.44276673,\n",
       "        0.39374204, 0.37655983, 0.4687119 , 0.38662573, 0.46893546,\n",
       "        0.38303913, 0.40296155, 0.42497568, 0.39109721, 0.38614651,\n",
       "        0.44222243, 0.38247225, 0.51369281, 0.38427586, 0.43900349,\n",
       "        0.37528391, 0.39030737, 0.38946329, 0.42109205, 0.39728184,\n",
       "        0.38534296, 0.45713856, 0.38842276, 0.40241183, 0.43103867,\n",
       "        0.39172738, 0.43855483, 0.38967574, 0.39373483, 0.38475764,\n",
       "        0.3949113 , 0.38492932, 0.40427986, 0.41990491, 0.39846478,\n",
       "        0.3780346 , 0.39362419, 0.38709923, 0.51304928, 0.38103838,\n",
       "        0.43813471, 0.3769798 , 0.49642288, 0.38927539, 0.4278986 ,\n",
       "        0.39987639, 0.38225264, 0.39556561, 0.48873098, 0.38413443,\n",
       "        0.4299211 , 0.37869527, 0.50425578, 0.3835608 , 0.38652641,\n",
       "        0.52301369, 0.38220908, 0.48173916, 0.37999277, 0.3870419 ,\n",
       "        0.39386119, 0.44206292, 0.37719839, 0.38855011, 0.44344382,\n",
       "        0.38569166, 0.49550168, 0.38130115, 0.44318292, 0.37956445,\n",
       "        0.47306525, 0.40653073, 0.39161551, 0.45713856, 0.37842473,\n",
       "        0.3869246 , 0.5440364 , 0.38469697, 0.46185837, 0.37663255,\n",
       "        0.54405318, 0.38400842, 0.45505054, 0.3778403 , 0.53320448,\n",
       "        0.38485991, 0.48869814, 0.37988906, 0.47449712, 0.38958255,\n",
       "        0.38626647, 0.43805797, 0.38465088, 0.39068326, 0.39298488,\n",
       "        0.44280582, 0.38692611, 0.50440914, 0.37171781, 0.47502137,\n",
       "        0.39032194, 0.39201901, 0.42040074, 0.38573942, 0.4032492 ,\n",
       "        0.40448308, 0.38588379, 0.37483285, 0.47502137, 0.37824862,\n",
       "        0.543899  , 0.38085607, 0.44721983, 0.39082627, 0.41517557,\n",
       "        0.39256131, 0.4267479 , 0.37795561, 0.48141698, 0.37429784,\n",
       "        0.5045877 , 0.45177983, 0.39107085, 0.41040057, 0.38636044,\n",
       "        0.38612362, 0.39765982, 0.49527947, 0.38205864, 0.39652301,\n",
       "        0.46277448, 0.39107085, 0.38389737, 0.38453868, 0.48838307,\n",
       "        0.38988857, 0.38301488, 0.53320448, 0.38367289, 0.46206402,\n",
       "        0.385449  , 0.45236365, 0.39218968, 0.38299292, 0.39207353,\n",
       "        0.38626647, 0.38064207, 0.39142671, 0.48790415, 0.38951611,\n",
       "        0.43836542, 0.38490573, 0.3763625 , 0.47487333, 0.38962314,\n",
       "        0.53324137, 0.39142507, 0.38331447, 0.50455959, 0.3835608 ,\n",
       "        0.40542829, 0.38682575, 0.50467445, 0.39542488, 0.42114017,\n",
       "        0.39315293, 0.47361717, 0.37338318, 0.46250185, 0.39329181,\n",
       "        0.49642288, 0.38502074, 0.46889777, 0.39430243, 0.3905678 ,\n",
       "        0.38900669, 0.39043861, 0.3901505 , 0.40465083, 0.38834583,\n",
       "        0.4043145 , 0.46731624, 0.38081583, 0.49571747, 0.37685203,\n",
       "        0.46859844, 0.46867345, 0.3915619 , 0.38925831, 0.4235878 ,\n",
       "        0.39488197, 0.52235653, 0.37988906, 0.42553808, 0.38132283,\n",
       "        0.38561603, 0.45177983, 0.38488214, 0.41535337, 0.39619457,\n",
       "        0.46785291, 0.38362837, 0.39937134, 0.39765982, 0.3789454 ,\n",
       "        0.38812659, 0.402574  , 0.38362837, 0.45706092, 0.38875477,\n",
       "        0.3893558 , 0.38242896, 0.44756571, 0.38389737, 0.5681479 ,\n",
       "        0.43801832, 0.39383099, 0.38643146, 0.53292193, 0.37688811,\n",
       "        0.53321651, 0.39598298],\n",
       "       [0.25038107, 0.21933444, 0.24526645, 0.23129711, 0.25541621,\n",
       "        0.21858455, 0.25797151, 0.25612736, 0.21314386, 0.25555439,\n",
       "        0.219253  , 0.25496958, 0.24877155, 0.20476968, 0.25340349,\n",
       "        0.2145801 , 0.23224441, 0.2542802 , 0.21610595, 0.2497781 ,\n",
       "        0.2135665 , 0.20476968, 0.24949257, 0.23959891, 0.24394714,\n",
       "        0.25429456, 0.22072365, 0.24671194, 0.24910643, 0.24961006,\n",
       "        0.24301391, 0.24743232, 0.23521348, 0.25100234, 0.24471228,\n",
       "        0.21498181, 0.20678824, 0.25029324, 0.22763312, 0.25961201,\n",
       "        0.25071966, 0.22595548, 0.2544606 , 0.22623336, 0.24275159,\n",
       "        0.2545277 , 0.23163982, 0.21671459, 0.25248337, 0.22729856,\n",
       "        0.24483583, 0.25965513, 0.219253  , 0.25029324, 0.21949997,\n",
       "        0.25325765, 0.241265  , 0.23515546, 0.24733454, 0.25175843,\n",
       "        0.2268335 , 0.25451268, 0.20717094, 0.25234567, 0.22919273,\n",
       "        0.2614727 , 0.248803  , 0.24829809, 0.23585016, 0.24256448,\n",
       "        0.25298294, 0.22246373, 0.24954872, 0.24091839, 0.23182918,\n",
       "        0.24571787, 0.22880767, 0.24842345, 0.24691693, 0.25429456,\n",
       "        0.24553518, 0.25273221, 0.23952928, 0.23495854, 0.24327769,\n",
       "        0.25781263, 0.24684815, 0.25057163, 0.20581313, 0.25671728,\n",
       "        0.22845656, 0.25990304, 0.21128232, 0.24818816, 0.23350638,\n",
       "        0.24179858, 0.25438304, 0.24594184, 0.21337753, 0.2522635 ,\n",
       "        0.23094404, 0.25820027, 0.20836905, 0.25356368, 0.25198892,\n",
       "        0.20436584, 0.25435749, 0.2156113 , 0.25609485, 0.25230818,\n",
       "        0.24490556, 0.22670015, 0.25869504, 0.24962472, 0.22790029,\n",
       "        0.25148763, 0.20996079, 0.25536579, 0.22766522, 0.25729739,\n",
       "        0.215398  , 0.23827373, 0.24764534, 0.22246373, 0.25804   ,\n",
       "        0.25223486, 0.19890773, 0.25259345, 0.22001849, 0.25969767,\n",
       "        0.1991012 , 0.25383221, 0.22059592, 0.25907221, 0.20193256,\n",
       "        0.25269061, 0.21333245, 0.2560348 , 0.21688636, 0.25025693,\n",
       "        0.25183078, 0.22839338, 0.2525661 , 0.24709116, 0.24645709,\n",
       "        0.22733257, 0.25046917, 0.20862517, 0.26412855, 0.21748568,\n",
       "        0.24688212, 0.24789215, 0.23532444, 0.25151581, 0.24144961,\n",
       "        0.23965571, 0.25160134, 0.26244414, 0.21748568, 0.25931862,\n",
       "        0.19781955, 0.25660645, 0.22571159, 0.24912277, 0.23501598,\n",
       "        0.24620378, 0.23259455, 0.25776712, 0.21520739, 0.26212594,\n",
       "        0.20893456, 0.22389647, 0.24731892, 0.23794987, 0.25188773,\n",
       "        0.25174467, 0.24278865, 0.20966931, 0.25582045, 0.24434561,\n",
       "        0.22092187, 0.24731892, 0.25376507, 0.25415772, 0.21291067,\n",
       "        0.24855018, 0.2548388 , 0.20193256, 0.2536304 , 0.22021549,\n",
       "        0.2513454 , 0.22443905, 0.24598519, 0.25482544, 0.24792583,\n",
       "        0.25183078, 0.25795633, 0.24753133, 0.2123033 , 0.24832915,\n",
       "        0.22864828, 0.25271806, 0.26084339, 0.21731303, 0.24839231,\n",
       "        0.20211524, 0.24753035, 0.25502251, 0.208885  , 0.25356368,\n",
       "        0.24292769, 0.25041013, 0.20908958, 0.24585341, 0.2323033 ,\n",
       "        0.24655885, 0.21594869, 0.2627908 , 0.22064587, 0.24664349,\n",
       "        0.21128232, 0.25278721, 0.21945795, 0.24516678, 0.24896257,\n",
       "        0.24990071, 0.24888318, 0.24870776, 0.23976086, 0.24950302,\n",
       "        0.23955076, 0.21782109, 0.25658213, 0.21025308, 0.25982704,\n",
       "        0.21912971, 0.21921107, 0.24761287, 0.25005523, 0.23405885,\n",
       "        0.24551721, 0.20271502, 0.2560348 , 0.23169348, 0.25537857,\n",
       "        0.25315113, 0.22389647, 0.25270391, 0.23836508, 0.24414593,\n",
       "        0.21835105, 0.25360386, 0.24384858, 0.24278865, 0.25835041,\n",
       "        0.25119621, 0.24101981, 0.25360386, 0.22238913, 0.24974774,\n",
       "        0.2482351 , 0.25448702, 0.22602436, 0.25376507, 0.19266001,\n",
       "        0.22836084, 0.24488786, 0.25193094, 0.20078175, 0.25984845,\n",
       "        0.20199099, 0.24401873]])"
      ]
     },
     "execution_count": 309,
     "metadata": {},
     "output_type": "execute_result"
    }
   ],
   "source": [
    "cmeans.U"
   ]
  },
  {
   "cell_type": "code",
   "execution_count": 280,
   "metadata": {},
   "outputs": [
    {
     "data": {
      "text/plain": [
       "array([[ 3.47392789,  3.49727801,  3.49114837],\n",
       "       [70.7306926 , 71.02505138, 70.92499928]])"
      ]
     },
     "execution_count": 280,
     "metadata": {},
     "output_type": "execute_result"
    }
   ],
   "source": [
    "cmeans.new_centers"
   ]
  },
  {
   "cell_type": "code",
   "execution_count": 269,
   "metadata": {},
   "outputs": [],
   "source": [
    "cmeans.means()"
   ]
  },
  {
   "cell_type": "code",
   "execution_count": 270,
   "metadata": {},
   "outputs": [],
   "source": [
    "cmeans.members()"
   ]
  },
  {
   "cell_type": "code",
   "execution_count": 271,
   "metadata": {
    "scrolled": true
   },
   "outputs": [],
   "source": [
    "cmeans.estimate()"
   ]
  },
  {
   "cell_type": "code",
   "execution_count": 272,
   "metadata": {},
   "outputs": [
    {
     "data": {
      "text/plain": [
       "0.0"
      ]
     },
     "execution_count": 272,
     "metadata": {},
     "output_type": "execute_result"
    }
   ],
   "source": [
    "cmeans.diff_U"
   ]
  },
  {
   "cell_type": "code",
   "execution_count": 263,
   "metadata": {},
   "outputs": [
    {
     "data": {
      "text/plain": [
       "array([[0.28477362, 0.24101824, 0.27911655, 0.25991648, 0.29067703,\n",
       "        0.24396928, 0.29306101, 0.29019275, 0.23215009, 0.29058014,\n",
       "        0.24102149, 0.28953002, 0.28409607, 0.21854101, 0.28910241,\n",
       "        0.23523545, 0.25968277, 0.29000332, 0.23526237, 0.28514054,\n",
       "        0.23217157, 0.21854101, 0.28366967, 0.2722847 , 0.27983906,\n",
       "        0.28850999, 0.24375033, 0.28187846, 0.28389436, 0.28524666,\n",
       "        0.27846679, 0.28320161, 0.26775392, 0.28599711, 0.27940922,\n",
       "        0.2352381 , 0.22209797, 0.28645658, 0.25344925, 0.29451134,\n",
       "        0.28617647, 0.25118977, 0.28987623, 0.25114901, 0.27861426,\n",
       "        0.28836354, 0.26454828, 0.23820829, 0.28818859, 0.25350808,\n",
       "        0.28118481, 0.29447833, 0.24102149, 0.28645658, 0.24101208,\n",
       "        0.28920455, 0.27549923, 0.26340099, 0.28326206, 0.28710147,\n",
       "        0.25359493, 0.28983998, 0.22215904, 0.28828299, 0.2556225 ,\n",
       "        0.29565178, 0.28407684, 0.28439251, 0.26535248, 0.27872166,\n",
       "        0.28785676, 0.24634846, 0.28528583, 0.27567339, 0.25978189,\n",
       "        0.28248437, 0.25569899, 0.28431271, 0.28176042, 0.28850999,\n",
       "        0.28077159, 0.28802124, 0.27435213, 0.26563991, 0.27832206,\n",
       "        0.29318032, 0.28179977, 0.28627239, 0.22195174, 0.29119406,\n",
       "        0.25577238, 0.29429154, 0.22894544, 0.28446329, 0.26163594,\n",
       "        0.27719086, 0.28993058, 0.28054347, 0.23216156, 0.28833995,\n",
       "        0.26001062, 0.29289278, 0.22550915, 0.28899196, 0.28695277,\n",
       "        0.21846159, 0.28994858, 0.23524869, 0.29163615, 0.28675229,\n",
       "        0.28114239, 0.25362094, 0.29387759, 0.28523734, 0.25340441,\n",
       "        0.28728055, 0.22884795, 0.29071274, 0.25344376, 0.29217562,\n",
       "        0.23826057, 0.27288947, 0.28307186, 0.24634846, 0.29301021,\n",
       "        0.28679778, 0.21070809, 0.28811404, 0.24381018, 0.29444591,\n",
       "        0.21076012, 0.28881075, 0.24658611, 0.29359499, 0.21471087,\n",
       "        0.28804893, 0.23215927, 0.29168034, 0.23820426, 0.28484743,\n",
       "        0.28705443, 0.25578596, 0.28813248, 0.28341498, 0.28202843,\n",
       "        0.25350196, 0.28633959, 0.22553762, 0.29838498, 0.23819506,\n",
       "        0.28354916, 0.28292477, 0.26551867, 0.28726169, 0.27540875,\n",
       "        0.27428903, 0.28720477, 0.29614045, 0.23819506, 0.29341651,\n",
       "        0.21042191, 0.29127069, 0.25122718, 0.28388468, 0.26783299,\n",
       "        0.2821811 , 0.26188326, 0.29321486, 0.235241  , 0.29638573,\n",
       "        0.22557341, 0.24886898, 0.28327177, 0.27093553, 0.28701764,\n",
       "        0.28711046, 0.27859321, 0.22883067, 0.29039742, 0.27961138,\n",
       "        0.2437356 , 0.28327177, 0.2888556 , 0.28859756, 0.23213965,\n",
       "        0.284233  , 0.28961727, 0.21471087, 0.28894647, 0.24379227,\n",
       "        0.28737654, 0.24879875, 0.28231581, 0.28962625, 0.28290497,\n",
       "        0.28705443, 0.29171756, 0.28314098, 0.23211727, 0.28437265,\n",
       "        0.25573187, 0.28803064, 0.29487176, 0.23819694, 0.28433244,\n",
       "        0.21475366, 0.28314158, 0.28949504, 0.22556758, 0.28899196,\n",
       "        0.27473846, 0.28637863, 0.22559191, 0.28059234, 0.26429844,\n",
       "        0.28196811, 0.23823401, 0.29708237, 0.24375636, 0.28191838,\n",
       "        0.22894544, 0.28798481, 0.24101359, 0.28098589, 0.28398022,\n",
       "        0.28506419, 0.28402811, 0.28413522, 0.2742371 , 0.28531517,\n",
       "        0.27434136, 0.24110272, 0.29128762, 0.22886684, 0.29434826,\n",
       "        0.24102669, 0.24102322, 0.28309147, 0.28496925, 0.26371375,\n",
       "        0.28078187, 0.2181585 , 0.29168034, 0.26215397, 0.29070366,\n",
       "        0.28774872, 0.24886898, 0.28804006, 0.26871   , 0.27972442,\n",
       "        0.24106724, 0.28896453, 0.27802075, 0.27859321, 0.29278458,\n",
       "        0.28587693, 0.27562184, 0.28896453, 0.24635627, 0.28515958,\n",
       "        0.28443298, 0.28985782, 0.25117948, 0.2888556 , 0.20232906,\n",
       "        0.255793  , 0.28115313, 0.28698986, 0.21444959, 0.29433223,\n",
       "        0.21472451, 0.27979753],\n",
       "       [0.30092742, 0.27311388, 0.2974643 , 0.28554857, 0.30438531,\n",
       "        0.27464779, 0.30583643, 0.30429054, 0.26686466, 0.30436568,\n",
       "        0.2731009 , 0.30380932, 0.30035418, 0.25717091, 0.30336383,\n",
       "        0.2689262 , 0.28558777, 0.30390415, 0.26922679, 0.30099515,\n",
       "        0.26695739, 0.25717091, 0.30027747, 0.29323428, 0.29758817,\n",
       "        0.30324807, 0.27490712, 0.29899468, 0.30031685, 0.30101579,\n",
       "        0.29678634, 0.29972438, 0.29024595, 0.30158366, 0.29751113,\n",
       "        0.26900263, 0.25970122, 0.30167462, 0.28147399, 0.30672466,\n",
       "        0.3016182 , 0.2799549 , 0.30387792, 0.27998137, 0.29681338,\n",
       "        0.30322158, 0.28801485, 0.27103307, 0.3028081 , 0.28144761,\n",
       "        0.29836459, 0.30671775, 0.2731009 , 0.30167462, 0.27314053,\n",
       "        0.30338506, 0.29507719, 0.28801609, 0.2997362 , 0.30220415,\n",
       "        0.28141385, 0.30387053, 0.25981463, 0.30282753, 0.28291236,\n",
       "        0.30751247, 0.30035054, 0.30041216, 0.28913355, 0.29683374,\n",
       "        0.30274237, 0.27667112, 0.30102352, 0.29510425, 0.28556874,\n",
       "        0.29911301, 0.28288674, 0.3003962 , 0.29897354, 0.30324807,\n",
       "        0.29828598, 0.30277444, 0.29423481, 0.28912998, 0.29676089,\n",
       "        0.3058615 , 0.29898051, 0.30163719, 0.25941785, 0.30482424,\n",
       "        0.28286546, 0.30667925, 0.2646341 , 0.30042652, 0.28682285,\n",
       "        0.29597861, 0.30388907, 0.29824605, 0.26691568, 0.3028394 ,\n",
       "        0.28553786, 0.30580184, 0.26204017, 0.30334127, 0.30217533,\n",
       "        0.2570401 , 0.30389279, 0.26912633, 0.30491394, 0.3021379 ,\n",
       "        0.29835617, 0.2814048 , 0.30630446, 0.30101396, 0.2814963 ,\n",
       "        0.30223996, 0.26432193, 0.30439262, 0.28147662, 0.30534472,\n",
       "        0.27082172, 0.29331246, 0.29969952, 0.27667112, 0.30582589,\n",
       "        0.30214625, 0.2512369 , 0.30279298, 0.27481422, 0.30671099,\n",
       "        0.25131042, 0.3033052 , 0.27647264, 0.30624589, 0.25428757,\n",
       "        0.30277994, 0.26690579, 0.30492326, 0.27106234, 0.30094057,\n",
       "        0.30219494, 0.28286184, 0.3027967 , 0.29976677, 0.2990225 ,\n",
       "        0.28145021, 0.3016507 , 0.26210743, 0.30908708, 0.27116743,\n",
       "        0.29979435, 0.29967223, 0.28912968, 0.30223614, 0.29506391,\n",
       "        0.29422489, 0.30222466, 0.30787764, 0.27116743, 0.30621023,\n",
       "        0.25082679, 0.30483931, 0.27993262, 0.3003151 , 0.29025303,\n",
       "        0.29905184, 0.28679639, 0.30586885, 0.26904641, 0.30792773,\n",
       "        0.26218954, 0.27832073, 0.29973811, 0.29229406, 0.3021878 ,\n",
       "        0.30220591, 0.29680946, 0.26425567, 0.30432955, 0.29754621,\n",
       "        0.27493448, 0.29973811, 0.30331401, 0.30326433, 0.26681436,\n",
       "        0.30038051, 0.30382619, 0.25428757, 0.3033321 , 0.27483947,\n",
       "        0.30225965, 0.27837774, 0.29907855, 0.30382795, 0.29966863,\n",
       "        0.30219494, 0.30525525, 0.29971267, 0.26668629, 0.30040816,\n",
       "        0.28287683, 0.3027763 , 0.30707999, 0.2711367 , 0.30040012,\n",
       "        0.25435196, 0.29971278, 0.30380263, 0.26217632, 0.30334127,\n",
       "        0.29498458, 0.30165863, 0.26223102, 0.29825438, 0.28799703,\n",
       "        0.29901119, 0.27090726, 0.3083277 , 0.27489653, 0.29900199,\n",
       "        0.2646341 , 0.30276725, 0.27313373, 0.29832579, 0.30033252,\n",
       "        0.30098058, 0.3003414 , 0.30036163, 0.29421691, 0.30102936,\n",
       "        0.2942331 , 0.27288719, 0.30484267, 0.26438934, 0.30669082,\n",
       "        0.27308141, 0.27309424, 0.29970323, 0.3009628 , 0.28799125,\n",
       "        0.29828784, 0.25651804, 0.30492326, 0.28678468, 0.30439076,\n",
       "        0.30272188, 0.27832073, 0.30277817, 0.29125386, 0.29756673,\n",
       "        0.27296301, 0.30333573, 0.29671158, 0.29680946, 0.30578008,\n",
       "        0.30156125, 0.29509605, 0.30333573, 0.2766622 , 0.30099882,\n",
       "        0.30042034, 0.30387416, 0.27996135, 0.30331401, 0.24480679,\n",
       "        0.28286   , 0.2983583 , 0.30218244, 0.25388664, 0.30668754,\n",
       "        0.25430814, 0.29758033],\n",
       "       [0.41429896, 0.48586788, 0.42341915, 0.45453495, 0.40493766,\n",
       "        0.48138293, 0.40110256, 0.4055167 , 0.50098525, 0.40505418,\n",
       "        0.48587761, 0.40666066, 0.41554976, 0.52428808, 0.40753376,\n",
       "        0.49583835, 0.45472946, 0.40609252, 0.49551084, 0.41386432,\n",
       "        0.50087105, 0.52428808, 0.41605286, 0.43448102, 0.42257277,\n",
       "        0.40824194, 0.48134255, 0.41912686, 0.41578879, 0.41373754,\n",
       "        0.42474687, 0.41707401, 0.44200013, 0.41241923, 0.42307966,\n",
       "        0.49575927, 0.51820081, 0.4118688 , 0.46507676, 0.398764  ,\n",
       "        0.41220533, 0.46885533, 0.40624585, 0.46886962, 0.42457235,\n",
       "        0.40841489, 0.44743687, 0.49075864, 0.40900331, 0.46504431,\n",
       "        0.4204506 , 0.39880392, 0.48587761, 0.4118688 , 0.4858474 ,\n",
       "        0.40741039, 0.42942357, 0.44858293, 0.41700174, 0.41069439,\n",
       "        0.46499123, 0.40628949, 0.51802633, 0.40888948, 0.46146514,\n",
       "        0.39683575, 0.41557261, 0.41519533, 0.44551397, 0.42444459,\n",
       "        0.40940087, 0.47698043, 0.41369065, 0.42922236, 0.45464937,\n",
       "        0.41840262, 0.46141427, 0.41529109, 0.41926604, 0.40824194,\n",
       "        0.42094243, 0.40920432, 0.43141306, 0.44523011, 0.42491706,\n",
       "        0.40095818, 0.41921972, 0.41209042, 0.51863041, 0.4039817 ,\n",
       "        0.46136216, 0.39902921, 0.50642046, 0.41511019, 0.45154121,\n",
       "        0.42683052, 0.40618034, 0.42121048, 0.50092276, 0.40882065,\n",
       "        0.45445153, 0.40130539, 0.51245069, 0.40766678, 0.41087189,\n",
       "        0.52449831, 0.40615863, 0.49562498, 0.40344991, 0.41110981,\n",
       "        0.42050144, 0.46497426, 0.39981795, 0.41374871, 0.46509929,\n",
       "        0.41047949, 0.50683012, 0.40489464, 0.46507963, 0.40247966,\n",
       "        0.49091771, 0.43379806, 0.41722862, 0.47698043, 0.4011639 ,\n",
       "        0.41105598, 0.53805501, 0.40909298, 0.4813756 , 0.3988431 ,\n",
       "        0.53792946, 0.40788405, 0.47694124, 0.40015912, 0.53100156,\n",
       "        0.40917113, 0.50093494, 0.4033964 , 0.4907334 , 0.41421201,\n",
       "        0.41075063, 0.4613522 , 0.40907081, 0.41681826, 0.41894908,\n",
       "        0.46504783, 0.41200971, 0.51235495, 0.39252794, 0.49063751,\n",
       "        0.41665648, 0.417403  , 0.44535165, 0.41050217, 0.42952734,\n",
       "        0.43148609, 0.41057057, 0.39598192, 0.49063751, 0.40037326,\n",
       "        0.5387513 , 0.40389001, 0.46884019, 0.41580021, 0.44191398,\n",
       "        0.41876706, 0.45132035, 0.40091629, 0.49571259, 0.39568653,\n",
       "        0.51223705, 0.47281028, 0.41699012, 0.43677041, 0.41079457,\n",
       "        0.41068363, 0.42459733, 0.50691366, 0.40527303, 0.42284241,\n",
       "        0.48132991, 0.41699012, 0.40783039, 0.40813811, 0.501046  ,\n",
       "        0.41538649, 0.40655653, 0.53100156, 0.40772142, 0.48136826,\n",
       "        0.41036381, 0.47282351, 0.41860563, 0.4065458 , 0.4174264 ,\n",
       "        0.41075063, 0.40302719, 0.41714635, 0.50119644, 0.41521919,\n",
       "        0.46139129, 0.40919305, 0.39804824, 0.49066636, 0.41526743,\n",
       "        0.53089438, 0.41714564, 0.40670233, 0.5122561 , 0.40766678,\n",
       "        0.43027696, 0.41196275, 0.51217708, 0.42115328, 0.44770452,\n",
       "        0.4190207 , 0.49085873, 0.39458992, 0.48134711, 0.41907963,\n",
       "        0.50642046, 0.40924795, 0.48585269, 0.42068832, 0.41568726,\n",
       "        0.41395524, 0.41563049, 0.41550315, 0.43154599, 0.41365548,\n",
       "        0.43142554, 0.4860101 , 0.40386971, 0.50674382, 0.39896092,\n",
       "        0.48589191, 0.48588253, 0.4172053 , 0.41406795, 0.448295  ,\n",
       "        0.42093029, 0.52532346, 0.4033964 , 0.45106135, 0.40490558,\n",
       "        0.40952941, 0.47281028, 0.40918177, 0.44003615, 0.42270885,\n",
       "        0.48596974, 0.40769974, 0.42526767, 0.42459733, 0.40143534,\n",
       "        0.41256182, 0.42928211, 0.40769974, 0.47698153, 0.4138416 ,\n",
       "        0.41514668, 0.40626802, 0.46885917, 0.40783039, 0.55286416,\n",
       "        0.461347  , 0.42048857, 0.4108277 , 0.53166377, 0.39898023,\n",
       "        0.53096735, 0.42262214]])"
      ]
     },
     "execution_count": 263,
     "metadata": {},
     "output_type": "execute_result"
    }
   ],
   "source": [
    "cmeans.pre_U"
   ]
  },
  {
   "cell_type": "code",
   "execution_count": 231,
   "metadata": {},
   "outputs": [
    {
     "data": {
      "text/plain": [
       "0.0"
      ]
     },
     "execution_count": 231,
     "metadata": {},
     "output_type": "execute_result"
    }
   ],
   "source": [
    "cmeans.estimate()\n",
    "cmeans.diff_U"
   ]
  },
  {
   "cell_type": "code",
   "execution_count": 205,
   "metadata": {},
   "outputs": [],
   "source": [
    "pre = cmeans.pre_U"
   ]
  },
  {
   "cell_type": "code",
   "execution_count": 208,
   "metadata": {},
   "outputs": [
    {
     "data": {
      "text/plain": [
       "array([[5.12003721e-01, 1.15627425e-01, 7.15832088e-01, 4.29356443e-02,\n",
       "        2.77374729e-01, 1.37750274e-02, 1.87758091e-01, 5.60030765e-01,\n",
       "        1.09143052e-01, 2.83246603e-01, 7.10905626e-03, 3.10590146e-01,\n",
       "        3.58709687e-01, 2.55799572e-01, 8.33801029e-02, 8.72887047e-01,\n",
       "        8.62026309e-01, 1.06982002e-01, 1.16493402e-01, 8.47974957e-02,\n",
       "        1.82811939e-01, 5.58978008e-01, 3.30021072e-01, 2.42050037e-01,\n",
       "        2.42047103e-02, 2.34897885e-02, 3.47060674e-01, 1.20535049e-02,\n",
       "        3.16357628e-01, 5.21987464e-01, 3.98749592e-01, 1.22971707e-03,\n",
       "        4.55669059e-01, 4.13731199e-01, 4.88620317e-01, 6.14523384e-02,\n",
       "        6.40217282e-02, 3.61082739e-01, 2.94643767e-01, 8.85886706e-01,\n",
       "        1.35899317e-02, 4.42252603e-02, 8.72943879e-01, 6.00168877e-01,\n",
       "        9.59112872e-02, 3.50826951e-01, 1.44835268e-01, 7.14878125e-01,\n",
       "        7.16275273e-01, 7.73198907e-02, 1.44094945e-01, 5.45944888e-01,\n",
       "        3.67595199e-01, 1.94793011e-01, 4.09833146e-01, 4.78359363e-01,\n",
       "        7.05134981e-01, 2.53585378e-01, 9.89003951e-02, 3.72503858e-01,\n",
       "        6.13853457e-02, 7.18819504e-01, 2.27307670e-01, 3.46774861e-01,\n",
       "        3.44285151e-02, 2.11243007e-01, 2.94481658e-01, 3.24467716e-01,\n",
       "        8.45669096e-01, 1.58669130e-01, 2.27220012e-01, 5.02088027e-01,\n",
       "        3.16719360e-01, 8.54475873e-02, 2.13678419e-02, 3.61911751e-01,\n",
       "        5.01006931e-01, 7.70572727e-01, 7.26737991e-01, 7.29864783e-01,\n",
       "        6.52833392e-01, 4.21577845e-01, 4.02099534e-01, 2.99258900e-01,\n",
       "        5.80307491e-01, 3.02248169e-01, 3.14589558e-01, 5.81166678e-01,\n",
       "        4.84740086e-01, 4.93218964e-01, 8.43281301e-01, 5.46115183e-01,\n",
       "        3.78383181e-01, 8.38254950e-01, 7.49512646e-02, 2.16950582e-01,\n",
       "        3.29642820e-01, 3.86423367e-01, 2.48611255e-01, 3.67765140e-01,\n",
       "        1.76979722e-01, 6.08963227e-01, 6.26349231e-01, 5.65692273e-01,\n",
       "        1.09521971e-01, 1.62135876e-01, 4.04208335e-01, 4.06470273e-01,\n",
       "        5.35154449e-01, 1.28599701e-01, 8.81185976e-01, 6.22702165e-02,\n",
       "        5.51911175e-01, 2.24715283e-01, 5.24539363e-01, 2.33415157e-01,\n",
       "        3.69478859e-01, 1.21719548e-01, 4.05184574e-01, 4.02145585e-01,\n",
       "        5.69175117e-01, 8.23461248e-01, 1.54726151e-01, 1.15225140e-01,\n",
       "        1.22410722e-01, 5.06078453e-01, 2.78397480e-01, 1.98265530e-01,\n",
       "        8.01729571e-03, 2.02176676e-01, 2.16150977e-01, 1.16575607e-01,\n",
       "        6.36237119e-02, 6.75731019e-03, 2.90909128e-01, 5.96547506e-01,\n",
       "        6.98218209e-01, 3.75336023e-01, 1.84213712e-01, 6.66026879e-02,\n",
       "        6.15189312e-01, 2.41792031e-01, 3.73947954e-02, 1.89613378e-02,\n",
       "        4.11602164e-01, 1.18458540e-01, 5.36512552e-01, 1.86918339e-01,\n",
       "        2.68863292e-02, 8.21104094e-01, 3.28864742e-01, 3.58136894e-01,\n",
       "        5.34014435e-01, 7.92458399e-03, 3.51877136e-01, 2.23046520e-01,\n",
       "        6.54713008e-01, 3.74850934e-01, 4.72145286e-01, 2.98949847e-01,\n",
       "        1.46749420e-01, 7.06958573e-01, 2.13223873e-01, 2.68116238e-01,\n",
       "        3.26873428e-01, 6.67567302e-01, 6.98085046e-01, 5.87179875e-02,\n",
       "        1.53072464e-01, 1.52916038e-01, 2.48708571e-01, 2.32796227e-01,\n",
       "        2.29886838e-02, 9.61984879e-02, 6.02203261e-02, 6.50946521e-01,\n",
       "        4.57383735e-01, 2.01116595e-01, 2.93569968e-01, 3.91200367e-01,\n",
       "        4.05514610e-01, 7.95853927e-01, 1.12252233e-01, 8.05647238e-01,\n",
       "        4.08687869e-01, 9.18560916e-02, 1.34263411e-01, 1.22510827e-01,\n",
       "        1.98725498e-01, 4.59898641e-01, 3.10127914e-01, 1.13273070e-01,\n",
       "        4.09254089e-02, 8.44377444e-02, 6.55800054e-01, 1.51542529e-01,\n",
       "        3.87377641e-01, 1.13221751e-02, 3.49394085e-01, 3.08125568e-01,\n",
       "        8.04457118e-01, 3.88365727e-02, 4.62737122e-01, 6.25543947e-01,\n",
       "        8.83824615e-02, 2.80038722e-01, 5.90007561e-02, 3.88398370e-01,\n",
       "        3.38334626e-01, 5.37769241e-01, 4.53265472e-02, 1.49516101e-02,\n",
       "        3.37975368e-01, 3.13996494e-01, 4.63971992e-01, 9.00273310e-01,\n",
       "        1.52818803e-01, 5.09133183e-01, 5.47736482e-01, 6.10809874e-01,\n",
       "        8.88864115e-03, 5.38441990e-01, 1.18588413e-01, 7.23293581e-01,\n",
       "        8.07731465e-03, 4.12002680e-01, 2.98007470e-01, 3.17226247e-04,\n",
       "        2.97458248e-01, 8.12264009e-01, 1.98376886e-01, 6.30168713e-01,\n",
       "        8.29253461e-01, 3.03445708e-03, 9.15985663e-01, 2.05612750e-02,\n",
       "        9.96430094e-02, 5.03000150e-01, 2.08641522e-01, 3.05859557e-01,\n",
       "        5.63938790e-01, 6.18099281e-01, 7.87322640e-01, 4.95911435e-01,\n",
       "        2.42093487e-01, 5.18346885e-02, 6.26208752e-02, 5.13856166e-01,\n",
       "        6.64799553e-02, 2.79970996e-02, 2.03143200e-01, 2.16058637e-01,\n",
       "        2.42042076e-01, 2.51411617e-01, 1.22858722e-01, 1.61918435e-02,\n",
       "        5.89722673e-01, 3.37171020e-01, 3.42222299e-01, 1.60420411e-01,\n",
       "        6.34443863e-02, 3.76543476e-01, 3.58114512e-01, 9.08696844e-02,\n",
       "        7.61109985e-01, 2.15494701e-01, 3.67185666e-01, 3.06054574e-01,\n",
       "        6.55182897e-02, 3.84430492e-01, 9.56701740e-02, 8.61238108e-02],\n",
       "       [2.96471574e-01, 2.23716572e-01, 1.88721039e-01, 2.27609824e-01,\n",
       "        3.30537558e-01, 1.54011760e-01, 7.10852329e-01, 3.80744976e-01,\n",
       "        7.64816373e-01, 1.90748188e-01, 4.63844979e-01, 3.93770770e-01,\n",
       "        3.45041095e-01, 1.39657212e-01, 7.80682075e-01, 3.54107907e-02,\n",
       "        4.97249183e-03, 1.65987027e-01, 7.95612914e-01, 1.78974116e-01,\n",
       "        1.18141123e-01, 2.40506707e-01, 4.13164684e-03, 1.63997301e-01,\n",
       "        8.77119527e-01, 3.44142469e-01, 2.70055261e-01, 7.24114081e-01,\n",
       "        1.01498144e-01, 1.38821679e-01, 3.66736258e-01, 6.84657900e-02,\n",
       "        5.50986346e-02, 4.06109607e-01, 5.62146355e-02, 3.08623645e-01,\n",
       "        8.96738719e-01, 2.68758006e-01, 2.41494530e-01, 4.92742948e-02,\n",
       "        9.63811067e-01, 7.83591790e-01, 9.91401573e-02, 1.12561955e-01,\n",
       "        5.66773276e-01, 2.99214548e-01, 6.31304648e-02, 1.07723107e-01,\n",
       "        2.68610381e-02, 8.18366074e-01, 2.39804176e-01, 4.46050998e-01,\n",
       "        2.25148772e-01, 1.58821194e-01, 2.04848028e-02, 2.28356849e-01,\n",
       "        1.66623436e-01, 1.71183939e-01, 3.04094003e-01, 1.84641160e-01,\n",
       "        2.38259902e-01, 2.46795721e-01, 3.26162907e-01, 1.62374810e-01,\n",
       "        5.77087187e-01, 4.04046073e-01, 5.32405656e-02, 5.71904511e-01,\n",
       "        1.40928122e-01, 3.79593114e-01, 6.52056188e-01, 1.89633341e-01,\n",
       "        2.02085717e-01, 5.95110751e-01, 7.26693375e-01, 1.32876797e-01,\n",
       "        4.13742852e-01, 1.07058260e-01, 2.62012740e-01, 2.67017162e-01,\n",
       "        1.13538510e-01, 1.06014624e-01, 1.73056868e-01, 6.15775300e-02,\n",
       "        3.27488218e-01, 5.47073450e-01, 5.69016050e-01, 1.32102226e-02,\n",
       "        1.33347593e-01, 3.69423242e-01, 1.28487564e-01, 3.09570702e-01,\n",
       "        2.02639289e-01, 6.17008132e-02, 3.65220438e-01, 1.99770311e-01,\n",
       "        5.01659085e-01, 5.13644119e-01, 1.05807192e-01, 3.20612812e-02,\n",
       "        1.07111658e-01, 3.38782331e-01, 1.13888595e-01, 3.74698861e-01,\n",
       "        8.38267159e-01, 1.42239157e-01, 3.53232443e-01, 4.51570395e-01,\n",
       "        4.35076415e-01, 8.24199247e-01, 1.01232194e-01, 1.14045998e-02,\n",
       "        2.05072104e-02, 8.67207573e-02, 3.61079892e-01, 6.15502113e-01,\n",
       "        3.05166682e-01, 2.09176156e-01, 3.16179934e-01, 5.35579886e-01,\n",
       "        3.38229339e-01, 1.13737961e-01, 4.41175519e-01, 8.53362053e-01,\n",
       "        7.16902418e-01, 1.37152712e-01, 1.00748169e-01, 4.69423067e-01,\n",
       "        7.68070610e-02, 3.27181533e-01, 2.42566055e-03, 4.52551882e-01,\n",
       "        2.56515788e-01, 1.64924813e-01, 4.05289248e-01, 2.60400544e-01,\n",
       "        4.53296854e-02, 3.91581052e-01, 2.38827108e-01, 8.95586522e-02,\n",
       "        9.57175877e-02, 2.27063686e-01, 1.25585777e-01, 3.85688258e-01,\n",
       "        3.02752296e-01, 9.55657961e-02, 2.86350522e-01, 7.74737728e-01,\n",
       "        8.32668139e-01, 3.05172625e-02, 4.48683127e-01, 7.73674520e-02,\n",
       "        1.30906646e-02, 4.90769528e-01, 2.16690677e-01, 1.66221142e-01,\n",
       "        2.23715054e-01, 5.93085792e-01, 5.14267677e-01, 6.09366424e-01,\n",
       "        4.47535405e-01, 2.91640488e-01, 7.15999926e-01, 3.71346458e-01,\n",
       "        2.51247160e-01, 3.06949776e-01, 8.80110495e-02, 4.51613672e-01,\n",
       "        5.19790825e-02, 1.45645670e-01, 3.76478266e-01, 3.02737674e-01,\n",
       "        8.24808879e-01, 4.64938916e-01, 3.54685068e-01, 8.75074002e-02,\n",
       "        4.08644647e-01, 9.54471222e-02, 5.73140167e-01, 1.82286915e-01,\n",
       "        1.85844801e-01, 8.32250424e-02, 8.15637666e-01, 1.07688555e-02,\n",
       "        9.68939826e-02, 8.44271505e-01, 6.16078034e-01, 8.32911429e-01,\n",
       "        2.46011616e-01, 5.12860634e-01, 6.17455910e-01, 8.11020641e-02,\n",
       "        5.17485157e-01, 6.29155934e-01, 2.83564419e-01, 3.26157040e-02,\n",
       "        1.22031637e-01, 7.99614286e-01, 3.57086367e-01, 6.83765940e-01,\n",
       "        7.29473225e-02, 4.07797562e-01, 2.24582273e-01, 3.73366968e-01,\n",
       "        7.25830394e-01, 7.17889206e-01, 3.51910799e-01, 2.75897649e-01,\n",
       "        2.87517380e-01, 5.49200376e-02, 4.13382611e-01, 3.81127662e-01,\n",
       "        8.16110824e-02, 4.74893392e-01, 5.70142817e-02, 2.55724122e-02,\n",
       "        2.66240959e-01, 2.42623267e-01, 1.80463892e-01, 2.79841839e-01,\n",
       "        5.91585088e-01, 3.11526082e-01, 4.82457150e-01, 9.27224073e-02,\n",
       "        5.39293556e-01, 1.07520154e-02, 3.51104975e-01, 6.57116587e-01,\n",
       "        2.12027066e-01, 8.56811590e-03, 4.05014462e-01, 2.23068281e-01,\n",
       "        1.04239207e-01, 5.59789355e-01, 6.68666883e-02, 6.10358573e-01,\n",
       "        3.36016080e-01, 4.40828935e-01, 6.51447646e-01, 6.31780089e-01,\n",
       "        4.10336721e-01, 2.79020116e-01, 6.65731036e-02, 4.74366679e-01,\n",
       "        5.22159173e-01, 8.57356653e-02, 2.24111338e-01, 2.24067189e-01,\n",
       "        3.32845836e-01, 3.56017602e-01, 7.31674013e-01, 3.87387533e-02,\n",
       "        3.36721846e-01, 6.42390011e-01, 4.55886106e-01, 9.59389504e-01,\n",
       "        3.08784353e-01, 4.93276504e-01, 1.48848820e-01, 4.05689801e-01,\n",
       "        3.95897803e-01, 7.02360568e-03, 4.88715561e-01, 5.80822158e-01,\n",
       "        3.08135757e-02, 5.40416213e-01, 3.02653441e-01, 4.37351177e-01,\n",
       "        3.18510942e-01, 3.05964649e-01, 4.72619979e-01, 9.11458915e-01],\n",
       "       [1.91524706e-01, 6.60656003e-01, 9.54468731e-02, 7.29454532e-01,\n",
       "        3.92087713e-01, 8.32213213e-01, 1.01389580e-01, 5.92242593e-02,\n",
       "        1.26040575e-01, 5.26005209e-01, 5.29045965e-01, 2.95639084e-01,\n",
       "        2.96249217e-01, 6.04543216e-01, 1.35937822e-01, 9.17021625e-02,\n",
       "        1.33001199e-01, 7.27030971e-01, 8.78936844e-02, 7.36228389e-01,\n",
       "        6.99046939e-01, 2.00515285e-01, 6.65847281e-01, 5.93952661e-01,\n",
       "        9.86757631e-02, 6.32367742e-01, 3.82884066e-01, 2.63832414e-01,\n",
       "        5.82144228e-01, 3.39190857e-01, 2.34514150e-01, 9.30304493e-01,\n",
       "        4.89232307e-01, 1.80159194e-01, 4.55165048e-01, 6.29924017e-01,\n",
       "        3.92395531e-02, 3.70159255e-01, 4.63861703e-01, 6.48389987e-02,\n",
       "        2.25990010e-02, 1.72182950e-01, 2.79159637e-02, 2.87269168e-01,\n",
       "        3.37315437e-01, 3.49958501e-01, 7.92034268e-01, 1.77398768e-01,\n",
       "        2.56863689e-01, 1.04314035e-01, 6.16100878e-01, 8.00411378e-03,\n",
       "        4.07256029e-01, 6.46385795e-01, 5.69682051e-01, 2.93283788e-01,\n",
       "        1.28241583e-01, 5.75230683e-01, 5.97005602e-01, 4.42854982e-01,\n",
       "        7.00354752e-01, 3.43847750e-02, 4.46529423e-01, 4.90850329e-01,\n",
       "        3.88484298e-01, 3.84710920e-01, 6.52277776e-01, 1.03627773e-01,\n",
       "        1.34027824e-02, 4.61737756e-01, 1.20723800e-01, 3.08278632e-01,\n",
       "        4.81194923e-01, 3.19441661e-01, 2.51938783e-01, 5.05211452e-01,\n",
       "        8.52502175e-02, 1.22369013e-01, 1.12492689e-02, 3.11805459e-03,\n",
       "        2.33628098e-01, 4.72407532e-01, 4.24843598e-01, 6.39163570e-01,\n",
       "        9.22042916e-02, 1.50678381e-01, 1.16394391e-01, 4.05623099e-01,\n",
       "        3.81912321e-01, 1.37357794e-01, 2.82311347e-02, 1.44314115e-01,\n",
       "        4.18977529e-01, 1.00044237e-01, 5.59828297e-01, 5.83279107e-01,\n",
       "        1.68698095e-01, 9.99325140e-02, 6.45581553e-01, 6.00173578e-01,\n",
       "        7.15908620e-01, 5.22544419e-02, 2.59762174e-01, 5.96088658e-02,\n",
       "        5.22108696e-02, 6.95624967e-01, 2.42559222e-01, 1.41959332e-01,\n",
       "        2.97691358e-02, 4.72010519e-02, 1.75818297e-02, 9.26325184e-01,\n",
       "        4.27581615e-01, 6.88563960e-01, 1.14380745e-01, 1.51082730e-01,\n",
       "        3.25354459e-01, 6.69104296e-01, 2.78635492e-01, 6.22745289e-02,\n",
       "        9.25955445e-02, 6.28007911e-02, 4.04098330e-01, 3.14128077e-02,\n",
       "        1.60686861e-01, 3.56768835e-01, 6.20854351e-01, 3.32311403e-01,\n",
       "        9.15175643e-01, 4.70641791e-01, 7.81423363e-01, 4.30872511e-01,\n",
       "        6.79860500e-01, 8.28317877e-01, 3.03801624e-01, 1.43051949e-01,\n",
       "        2.56452106e-01, 2.33082925e-01, 5.76959179e-01, 8.43838660e-01,\n",
       "        2.89093100e-01, 5.31144282e-01, 8.37019427e-01, 5.95350405e-01,\n",
       "        2.85645540e-01, 7.85975663e-01, 1.77136925e-01, 3.83439328e-02,\n",
       "        1.40445532e-01, 1.48378644e-01, 2.22452132e-01, 5.64495654e-01,\n",
       "        4.52894900e-01, 5.01305888e-01, 4.31432187e-01, 6.10732338e-01,\n",
       "        1.21571938e-01, 3.20632746e-02, 1.35870368e-02, 9.16837286e-02,\n",
       "        4.05715175e-01, 1.40093887e-03, 7.07762005e-02, 3.60537304e-01,\n",
       "        4.21879412e-01, 2.54829215e-02, 2.13903904e-01, 4.89668341e-01,\n",
       "        7.94948453e-01, 7.01438292e-01, 3.74813163e-01, 4.64466098e-01,\n",
       "        1.52202437e-01, 4.38862596e-01, 5.85094606e-01, 2.61546079e-01,\n",
       "        1.33971618e-01, 7.03436282e-01, 1.33289865e-01, 4.26512717e-01,\n",
       "        4.08640588e-01, 1.20921030e-01, 7.21101009e-02, 1.83583906e-01,\n",
       "        4.94418148e-01, 6.38724029e-02, 2.49658555e-01, 4.45777443e-02,\n",
       "        5.55262885e-01, 2.72407249e-02, 7.24161758e-02, 8.05624866e-01,\n",
       "        4.41589434e-01, 2.86406321e-01, 6.06355270e-02, 8.15841767e-01,\n",
       "        4.90590722e-01, 1.89063539e-01, 2.93519549e-01, 8.10849133e-03,\n",
       "        1.22595560e-01, 5.53365865e-01, 3.12680605e-01, 1.08908495e-03,\n",
       "        1.85787144e-01, 2.07207160e-03, 5.89088445e-01, 3.35703981e-01,\n",
       "        3.74147994e-01, 4.07310721e-01, 5.41290842e-01, 6.03920728e-01,\n",
       "        5.80413549e-01, 2.11110113e-01, 4.79013727e-01, 7.41542781e-02,\n",
       "        5.80940238e-01, 2.48243550e-01, 2.71799626e-01, 1.09348287e-01,\n",
       "        3.99526271e-01, 1.50031928e-01, 3.98954437e-01, 1.83984012e-01,\n",
       "        4.52629129e-01, 5.77245304e-01, 3.50887555e-01, 3.42566187e-01,\n",
       "        4.90514687e-01, 1.79167875e-01, 3.96608651e-01, 1.46763005e-01,\n",
       "        6.65073321e-02, 4.37176188e-01, 1.71476484e-02, 3.69080152e-01,\n",
       "        5.64340911e-01, 5.61709152e-02, 1.39910832e-01, 6.23603541e-02,\n",
       "        2.57244891e-02, 1.02880604e-01, 1.46104257e-01, 2.97218858e-02,\n",
       "        2.35747340e-01, 8.62429646e-01, 7.13267786e-01, 2.62076645e-01,\n",
       "        6.00674208e-01, 6.15985298e-01, 6.51827873e-02, 7.45202610e-01,\n",
       "        4.21236078e-01, 1.06198372e-01, 4.21255172e-01, 2.44186525e-02,\n",
       "        1.01492974e-01, 1.69552477e-01, 5.08928881e-01, 4.33889789e-01,\n",
       "        5.40657810e-01, 6.16432919e-01, 1.53169927e-01, 3.28308157e-01,\n",
       "        2.08076440e-01, 2.44089085e-01, 3.30160893e-01, 2.56594249e-01,\n",
       "        6.15970769e-01, 3.09604859e-01, 4.31709847e-01, 2.41727394e-03]])"
      ]
     },
     "execution_count": 208,
     "metadata": {},
     "output_type": "execute_result"
    }
   ],
   "source": [
    "pre"
   ]
  },
  {
   "cell_type": "code",
   "execution_count": 207,
   "metadata": {},
   "outputs": [],
   "source": [
    "cmeans.members()"
   ]
  },
  {
   "cell_type": "code",
   "execution_count": 209,
   "metadata": {},
   "outputs": [],
   "source": [
    "new = cmeans.U"
   ]
  },
  {
   "cell_type": "code",
   "execution_count": 210,
   "metadata": {},
   "outputs": [],
   "source": [
    "tmp = pre - new"
   ]
  },
  {
   "cell_type": "code",
   "execution_count": 215,
   "metadata": {},
   "outputs": [
    {
     "data": {
      "text/plain": [
       "176.8757655988455"
      ]
     },
     "execution_count": 215,
     "metadata": {},
     "output_type": "execute_result"
    }
   ],
   "source": [
    "np.absolute(tmp).sum()"
   ]
  },
  {
   "cell_type": "code",
   "execution_count": 311,
   "metadata": {},
   "outputs": [],
   "source": [
    "from skfuzzy.cluster import cmeans"
   ]
  },
  {
   "cell_type": "code",
   "execution_count": 312,
   "metadata": {},
   "outputs": [],
   "source": [
    "cm_result = cmeans(data,3,2,0.003,10000)"
   ]
  },
  {
   "cell_type": "code",
   "execution_count": 316,
   "metadata": {},
   "outputs": [
    {
     "data": {
      "text/plain": [
       "array([[ 2.02706562, 53.19093331],\n",
       "       [ 4.35683333, 84.4304728 ],\n",
       "       [ 4.13951147, 74.79484806]])"
      ]
     },
     "execution_count": 316,
     "metadata": {},
     "output_type": "execute_result"
    }
   ],
   "source": [
    "cm_result[0]"
   ]
  },
  {
   "cell_type": "code",
   "execution_count": null,
   "metadata": {},
   "outputs": [],
   "source": []
  }
 ],
 "metadata": {
  "kernelspec": {
   "display_name": "Python [conda env:kMeans]",
   "language": "python",
   "name": "conda-env-kMeans-py"
  },
  "language_info": {
   "codemirror_mode": {
    "name": "ipython",
    "version": 3
   },
   "file_extension": ".py",
   "mimetype": "text/x-python",
   "name": "python",
   "nbconvert_exporter": "python",
   "pygments_lexer": "ipython3",
   "version": "3.5.4"
  },
  "toc": {
   "base_numbering": 1,
   "nav_menu": {},
   "number_sections": true,
   "sideBar": true,
   "skip_h1_title": false,
   "title_cell": "Table of Contents",
   "title_sidebar": "Contents",
   "toc_cell": false,
   "toc_position": {},
   "toc_section_display": true,
   "toc_window_display": false
  }
 },
 "nbformat": 4,
 "nbformat_minor": 2
}
