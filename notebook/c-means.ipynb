{
 "cells": [
  {
   "cell_type": "markdown",
   "metadata": {},
   "source": [
    "# implement c-means"
   ]
  },
  {
   "cell_type": "code",
   "execution_count": 246,
   "metadata": {},
   "outputs": [],
   "source": [
    "import sys\n",
    "import pandas as pd\n",
    "import numpy as np\n",
    "from  scipy.spatial.distance import pdist\n",
    "import matplotlib \n",
    "from matplotlib import pyplot as plt\n",
    "from scipy.spatial.distance import pdist\n",
    "%matplotlib inline\n",
    "sys.path.append(\"./../model/\")\n",
    "# from kmeans import kmeans\n",
    "import copy"
   ]
  },
  {
   "cell_type": "code",
   "execution_count": 276,
   "metadata": {},
   "outputs": [],
   "source": [
    "class cMeans(object):\n",
    "    def __init__(self,data,centers,weight):\n",
    "        self.centers = centers #列が各データで、行が各センターを表す\n",
    "        self.pre_centers = centers # 評価関数で比較するために前のcentersをとっておく\n",
    "        self.new_centers = np.zeros(self.centers.shape) #更新するためのcenters\n",
    "        self.numC = self.centers.shape[1] #centerの列の数を表す\n",
    "        self.data = data # 要素* データ数(列ベクトル)\n",
    "        self.numD = self.data.shape[1] #dataの列にデータの個数が来る\n",
    "        self.U = np.random.dirichlet(np.ones(self.numC),size=self.numD).T # numC行, numD列 縦にsumすると1.0である\n",
    "        self.pre_U = copy.deepcopy(self.U)\n",
    "        self.m = weight\n",
    "        self.diff_U = 10000\n",
    "\n",
    "    # calculate means\n",
    "    def means(self):\n",
    "        self.pre_centers = self.new_centers # update previous new_centers\n",
    "        for i in range(self.numC):\n",
    "            upper_sum = []\n",
    "            under_sum = []\n",
    "            for k in range(self.numD):\n",
    "                upper_sum.append((self.U[i][k] **self.m)* self.data[:,k])\n",
    "                under_sum.append(self.U[i][k] **self.m)\n",
    "            result = (sum(upper_sum))/ (sum(under_sum))\n",
    "            self.new_centers[:,i] = result #new_centersのi列にi番目のclusterセンターを代入\n",
    "        return None\n",
    "                \n",
    "                \n",
    "    # membership \n",
    "    def members(self):\n",
    "        self.pre_U = copy.deepcopy(self.U) # update previous self.U\n",
    "        for k in range(self.numD):\n",
    "            for i in range(self.numC):\n",
    "                sum_tmp_0 = []\n",
    "                for j in range(self.numC):\n",
    "                    under = self.dist(self.data[:,k],self.centers[:,j]) #d_jk\n",
    "                    upper = self.dist(self.data[:,k],self.centers[:,i]) #d_ik... j_for文内で定数\n",
    "                    tmp_0 = (upper/under) ** (2/(self.m-1))\n",
    "                    sum_tmp_0.append(tmp_0)\n",
    "                result = (sum(sum_tmp_0)) ** (-1)\n",
    "                self.U[i][k] = result\n",
    "        return None\n",
    "\n",
    "    \n",
    "    # 引き数は計算前のmatrix\n",
    "    def dist(self,y,v):\n",
    "        # return norm\n",
    "        return pdist([y,v],'minkowski', 2) \n",
    "    \n",
    "\n",
    "    def estimate(self):\n",
    "        diff_U = np.absolute(self.U - self.pre_U)\n",
    "        diff_U = diff_U.sum()\n",
    "        self.diff_U = diff_U\n",
    "        return None\n",
    "    \n",
    "    def fit(self):\n",
    "        i= 0\n",
    "        while self.diff_U > 0.001:\n",
    "            self.means()\n",
    "            self.members()\n",
    "            self.estimate()\n",
    "            i += 1\n",
    "            print(\"{}-th iteration\".format(i))\n",
    "            print(\"U difference is {}\".format(self.diff_U))\n",
    "    "
   ]
  },
  {
   "cell_type": "code",
   "execution_count": 202,
   "metadata": {},
   "outputs": [],
   "source": [
    "def _getInitValues(num,mini=-100,maxi=100):\n",
    "    centroids = []\n",
    "    if mini > maxi:\n",
    "        raise ValueError('maxi should be greater than mini')\n",
    "    else:\n",
    "        for i in range(num):\n",
    "            meanBtw = (maxi - mini)/ 2 + mini\n",
    "            distance = maxi - meanBtw\n",
    "            result = (np.random.rand(2) - 0.5) * distance * 2 + meanBtw\n",
    "            centroids.append(result)\n",
    "        return centroids"
   ]
  },
  {
   "cell_type": "code",
   "execution_count": 277,
   "metadata": {
    "scrolled": true
   },
   "outputs": [],
   "source": [
    "data = np.loadtxt(\"../data/faithful.txt\")\n",
    "data = np.array(data).T\n",
    "#initial centroids\n",
    "centroids = _getInitValues(3,mini=10,maxi=30)\n",
    "centroids = np.array(centroids).T\n",
    "# centroids = np.array(centroids)\n",
    "cmeans = cMeans(data=data,centers=centroids,weight=2)"
   ]
  },
  {
   "cell_type": "code",
   "execution_count": 278,
   "metadata": {},
   "outputs": [
    {
     "name": "stdout",
     "output_type": "stream",
     "text": [
      "1-th iteration\n",
      "U difference is 161.84728390571308\n",
      "2-th iteration\n",
      "U difference is 0.0\n"
     ]
    }
   ],
   "source": [
    "cmeans.fit()"
   ]
  },
  {
   "cell_type": "code",
   "execution_count": 285,
   "metadata": {},
   "outputs": [
    {
     "data": {
      "text/plain": [
       "<matplotlib.collections.PathCollection at 0x10f94de48>"
      ]
     },
     "execution_count": 285,
     "metadata": {},
     "output_type": "execute_result"
    },
    {
     "data": {
      "image/png": "[encoded data removed]",
      "text/plain": [
       "<Figure size 432x288 with 1 Axes>"
      ]
     },
     "metadata": {
      "needs_background": "light"
     },
     "output_type": "display_data"
    }
   ],
   "source": [
    "plt.scatter(cmeans.centers[0,:],cmeans.centers[1,:])\n",
    "plt.scatter(cmeans.new_centers[0,:],cmeans.new_centers[1,:])"
   ]
  },
  {
   "cell_type": "code",
   "execution_count": 292,
   "metadata": {},
   "outputs": [
    {
     "data": {
      "text/plain": [
       "array([[ 3.47392789,  3.49727801,  3.49114837],\n",
       "       [70.7306926 , 71.02505138, 70.92499928]])"
      ]
     },
     "execution_count": 292,
     "metadata": {},
     "output_type": "execute_result"
    }
   ],
   "source": [
    "cmeans.new_centers"
   ]
  },
  {
   "cell_type": "code",
   "execution_count": 291,
   "metadata": {
    "scrolled": true
   },
   "outputs": [
    {
     "data": {
      "text/plain": [
       "<matplotlib.collections.PathCollection at 0x10fb4b470>"
      ]
     },
     "execution_count": 291,
     "metadata": {},
     "output_type": "execute_result"
    },
    {
     "data": {
      "image/png": "[encoded data removed]",
      "text/plain": [
       "<Figure size 432x288 with 1 Axes>"
      ]
     },
     "metadata": {
      "needs_background": "light"
     },
     "output_type": "display_data"
    }
   ],
   "source": [
    "plt.scatter(data[0,:],data[1,:])\n",
    "plt.scatter(cmeans.new_centers[0,:],cmeans.new_centers[1,:])"
   ]
  },
  {
   "cell_type": "code",
   "execution_count": 280,
   "metadata": {},
   "outputs": [
    {
     "data": {
      "text/plain": [
       "array([[ 3.47392789,  3.49727801,  3.49114837],\n",
       "       [70.7306926 , 71.02505138, 70.92499928]])"
      ]
     },
     "execution_count": 280,
     "metadata": {},
     "output_type": "execute_result"
    }
   ],
   "source": [
    "cmeans.new_centers"
   ]
  },
  {
   "cell_type": "code",
   "execution_count": 269,
   "metadata": {},
   "outputs": [],
   "source": [
    "cmeans.means()"
   ]
  },
  {
   "cell_type": "code",
   "execution_count": 270,
   "metadata": {},
   "outputs": [],
   "source": [
    "cmeans.members()"
   ]
  },
  {
   "cell_type": "code",
   "execution_count": 271,
   "metadata": {
    "scrolled": true
   },
   "outputs": [],
   "source": [
    "cmeans.estimate()"
   ]
  },
  {
   "cell_type": "code",
   "execution_count": 272,
   "metadata": {},
   "outputs": [
    {
     "data": {
      "text/plain": [
       "0.0"
      ]
     },
     "execution_count": 272,
     "metadata": {},
     "output_type": "execute_result"
    }
   ],
   "source": [
    "cmeans.diff_U"
   ]
  },
  {
   "cell_type": "code",
   "execution_count": 263,
   "metadata": {},
   "outputs": [
    {
     "data": {
      "text/plain": [
       "array([[0.28477362, 0.24101824, 0.27911655, 0.25991648, 0.29067703,\n",
       "        0.24396928, 0.29306101, 0.29019275, 0.23215009, 0.29058014,\n",
       "        0.24102149, 0.28953002, 0.28409607, 0.21854101, 0.28910241,\n",
       "        0.23523545, 0.25968277, 0.29000332, 0.23526237, 0.28514054,\n",
       "        0.23217157, 0.21854101, 0.28366967, 0.2722847 , 0.27983906,\n",
       "        0.28850999, 0.24375033, 0.28187846, 0.28389436, 0.28524666,\n",
       "        0.27846679, 0.28320161, 0.26775392, 0.28599711, 0.27940922,\n",
       "        0.2352381 , 0.22209797, 0.28645658, 0.25344925, 0.29451134,\n",
       "        0.28617647, 0.25118977, 0.28987623, 0.25114901, 0.27861426,\n",
       "        0.28836354, 0.26454828, 0.23820829, 0.28818859, 0.25350808,\n",
       "        0.28118481, 0.29447833, 0.24102149, 0.28645658, 0.24101208,\n",
       "        0.28920455, 0.27549923, 0.26340099, 0.28326206, 0.28710147,\n",
       "        0.25359493, 0.28983998, 0.22215904, 0.28828299, 0.2556225 ,\n",
       "        0.29565178, 0.28407684, 0.28439251, 0.26535248, 0.27872166,\n",
       "        0.28785676, 0.24634846, 0.28528583, 0.27567339, 0.25978189,\n",
       "        0.28248437, 0.25569899, 0.28431271, 0.28176042, 0.28850999,\n",
       "        0.28077159, 0.28802124, 0.27435213, 0.26563991, 0.27832206,\n",
       "        0.29318032, 0.28179977, 0.28627239, 0.22195174, 0.29119406,\n",
       "        0.25577238, 0.29429154, 0.22894544, 0.28446329, 0.26163594,\n",
       "        0.27719086, 0.28993058, 0.28054347, 0.23216156, 0.28833995,\n",
       "        0.26001062, 0.29289278, 0.22550915, 0.28899196, 0.28695277,\n",
       "        0.21846159, 0.28994858, 0.23524869, 0.29163615, 0.28675229,\n",
       "        0.28114239, 0.25362094, 0.29387759, 0.28523734, 0.25340441,\n",
       "        0.28728055, 0.22884795, 0.29071274, 0.25344376, 0.29217562,\n",
       "        0.23826057, 0.27288947, 0.28307186, 0.24634846, 0.29301021,\n",
       "        0.28679778, 0.21070809, 0.28811404, 0.24381018, 0.29444591,\n",
       "        0.21076012, 0.28881075, 0.24658611, 0.29359499, 0.21471087,\n",
       "        0.28804893, 0.23215927, 0.29168034, 0.23820426, 0.28484743,\n",
       "        0.28705443, 0.25578596, 0.28813248, 0.28341498, 0.28202843,\n",
       "        0.25350196, 0.28633959, 0.22553762, 0.29838498, 0.23819506,\n",
       "        0.28354916, 0.28292477, 0.26551867, 0.28726169, 0.27540875,\n",
       "        0.27428903, 0.28720477, 0.29614045, 0.23819506, 0.29341651,\n",
       "        0.21042191, 0.29127069, 0.25122718, 0.28388468, 0.26783299,\n",
       "        0.2821811 , 0.26188326, 0.29321486, 0.235241  , 0.29638573,\n",
       "        0.22557341, 0.24886898, 0.28327177, 0.27093553, 0.28701764,\n",
       "        0.28711046, 0.27859321, 0.22883067, 0.29039742, 0.27961138,\n",
       "        0.2437356 , 0.28327177, 0.2888556 , 0.28859756, 0.23213965,\n",
       "        0.284233  , 0.28961727, 0.21471087, 0.28894647, 0.24379227,\n",
       "        0.28737654, 0.24879875, 0.28231581, 0.28962625, 0.28290497,\n",
       "        0.28705443, 0.29171756, 0.28314098, 0.23211727, 0.28437265,\n",
       "        0.25573187, 0.28803064, 0.29487176, 0.23819694, 0.28433244,\n",
       "        0.21475366, 0.28314158, 0.28949504, 0.22556758, 0.28899196,\n",
       "        0.27473846, 0.28637863, 0.22559191, 0.28059234, 0.26429844,\n",
       "        0.28196811, 0.23823401, 0.29708237, 0.24375636, 0.28191838,\n",
       "        0.22894544, 0.28798481, 0.24101359, 0.28098589, 0.28398022,\n",
       "        0.28506419, 0.28402811, 0.28413522, 0.2742371 , 0.28531517,\n",
       "        0.27434136, 0.24110272, 0.29128762, 0.22886684, 0.29434826,\n",
       "        0.24102669, 0.24102322, 0.28309147, 0.28496925, 0.26371375,\n",
       "        0.28078187, 0.2181585 , 0.29168034, 0.26215397, 0.29070366,\n",
       "        0.28774872, 0.24886898, 0.28804006, 0.26871   , 0.27972442,\n",
       "        0.24106724, 0.28896453, 0.27802075, 0.27859321, 0.29278458,\n",
       "        0.28587693, 0.27562184, 0.28896453, 0.24635627, 0.28515958,\n",
       "        0.28443298, 0.28985782, 0.25117948, 0.2888556 , 0.20232906,\n",
       "        0.255793  , 0.28115313, 0.28698986, 0.21444959, 0.29433223,\n",
       "        0.21472451, 0.27979753],\n",
       "       [0.30092742, 0.27311388, 0.2974643 , 0.28554857, 0.30438531,\n",
       "        0.27464779, 0.30583643, 0.30429054, 0.26686466, 0.30436568,\n",
       "        0.2731009 , 0.30380932, 0.30035418, 0.25717091, 0.30336383,\n",
       "        0.2689262 , 0.28558777, 0.30390415, 0.26922679, 0.30099515,\n",
       "        0.26695739, 0.25717091, 0.30027747, 0.29323428, 0.29758817,\n",
       "        0.30324807, 0.27490712, 0.29899468, 0.30031685, 0.30101579,\n",
       "        0.29678634, 0.29972438, 0.29024595, 0.30158366, 0.29751113,\n",
       "        0.26900263, 0.25970122, 0.30167462, 0.28147399, 0.30672466,\n",
       "        0.3016182 , 0.2799549 , 0.30387792, 0.27998137, 0.29681338,\n",
       "        0.30322158, 0.28801485, 0.27103307, 0.3028081 , 0.28144761,\n",
       "        0.29836459, 0.30671775, 0.2731009 , 0.30167462, 0.27314053,\n",
       "        0.30338506, 0.29507719, 0.28801609, 0.2997362 , 0.30220415,\n",
       "        0.28141385, 0.30387053, 0.25981463, 0.30282753, 0.28291236,\n",
       "        0.30751247, 0.30035054, 0.30041216, 0.28913355, 0.29683374,\n",
       "        0.30274237, 0.27667112, 0.30102352, 0.29510425, 0.28556874,\n",
       "        0.29911301, 0.28288674, 0.3003962 , 0.29897354, 0.30324807,\n",
       "        0.29828598, 0.30277444, 0.29423481, 0.28912998, 0.29676089,\n",
       "        0.3058615 , 0.29898051, 0.30163719, 0.25941785, 0.30482424,\n",
       "        0.28286546, 0.30667925, 0.2646341 , 0.30042652, 0.28682285,\n",
       "        0.29597861, 0.30388907, 0.29824605, 0.26691568, 0.3028394 ,\n",
       "        0.28553786, 0.30580184, 0.26204017, 0.30334127, 0.30217533,\n",
       "        0.2570401 , 0.30389279, 0.26912633, 0.30491394, 0.3021379 ,\n",
       "        0.29835617, 0.2814048 , 0.30630446, 0.30101396, 0.2814963 ,\n",
       "        0.30223996, 0.26432193, 0.30439262, 0.28147662, 0.30534472,\n",
       "        0.27082172, 0.29331246, 0.29969952, 0.27667112, 0.30582589,\n",
       "        0.30214625, 0.2512369 , 0.30279298, 0.27481422, 0.30671099,\n",
       "        0.25131042, 0.3033052 , 0.27647264, 0.30624589, 0.25428757,\n",
       "        0.30277994, 0.26690579, 0.30492326, 0.27106234, 0.30094057,\n",
       "        0.30219494, 0.28286184, 0.3027967 , 0.29976677, 0.2990225 ,\n",
       "        0.28145021, 0.3016507 , 0.26210743, 0.30908708, 0.27116743,\n",
       "        0.29979435, 0.29967223, 0.28912968, 0.30223614, 0.29506391,\n",
       "        0.29422489, 0.30222466, 0.30787764, 0.27116743, 0.30621023,\n",
       "        0.25082679, 0.30483931, 0.27993262, 0.3003151 , 0.29025303,\n",
       "        0.29905184, 0.28679639, 0.30586885, 0.26904641, 0.30792773,\n",
       "        0.26218954, 0.27832073, 0.29973811, 0.29229406, 0.3021878 ,\n",
       "        0.30220591, 0.29680946, 0.26425567, 0.30432955, 0.29754621,\n",
       "        0.27493448, 0.29973811, 0.30331401, 0.30326433, 0.26681436,\n",
       "        0.30038051, 0.30382619, 0.25428757, 0.3033321 , 0.27483947,\n",
       "        0.30225965, 0.27837774, 0.29907855, 0.30382795, 0.29966863,\n",
       "        0.30219494, 0.30525525, 0.29971267, 0.26668629, 0.30040816,\n",
       "        0.28287683, 0.3027763 , 0.30707999, 0.2711367 , 0.30040012,\n",
       "        0.25435196, 0.29971278, 0.30380263, 0.26217632, 0.30334127,\n",
       "        0.29498458, 0.30165863, 0.26223102, 0.29825438, 0.28799703,\n",
       "        0.29901119, 0.27090726, 0.3083277 , 0.27489653, 0.29900199,\n",
       "        0.2646341 , 0.30276725, 0.27313373, 0.29832579, 0.30033252,\n",
       "        0.30098058, 0.3003414 , 0.30036163, 0.29421691, 0.30102936,\n",
       "        0.2942331 , 0.27288719, 0.30484267, 0.26438934, 0.30669082,\n",
       "        0.27308141, 0.27309424, 0.29970323, 0.3009628 , 0.28799125,\n",
       "        0.29828784, 0.25651804, 0.30492326, 0.28678468, 0.30439076,\n",
       "        0.30272188, 0.27832073, 0.30277817, 0.29125386, 0.29756673,\n",
       "        0.27296301, 0.30333573, 0.29671158, 0.29680946, 0.30578008,\n",
       "        0.30156125, 0.29509605, 0.30333573, 0.2766622 , 0.30099882,\n",
       "        0.30042034, 0.30387416, 0.27996135, 0.30331401, 0.24480679,\n",
       "        0.28286   , 0.2983583 , 0.30218244, 0.25388664, 0.30668754,\n",
       "        0.25430814, 0.29758033],\n",
       "       [0.41429896, 0.48586788, 0.42341915, 0.45453495, 0.40493766,\n",
       "        0.48138293, 0.40110256, 0.4055167 , 0.50098525, 0.40505418,\n",
       "        0.48587761, 0.40666066, 0.41554976, 0.52428808, 0.40753376,\n",
       "        0.49583835, 0.45472946, 0.40609252, 0.49551084, 0.41386432,\n",
       "        0.50087105, 0.52428808, 0.41605286, 0.43448102, 0.42257277,\n",
       "        0.40824194, 0.48134255, 0.41912686, 0.41578879, 0.41373754,\n",
       "        0.42474687, 0.41707401, 0.44200013, 0.41241923, 0.42307966,\n",
       "        0.49575927, 0.51820081, 0.4118688 , 0.46507676, 0.398764  ,\n",
       "        0.41220533, 0.46885533, 0.40624585, 0.46886962, 0.42457235,\n",
       "        0.40841489, 0.44743687, 0.49075864, 0.40900331, 0.46504431,\n",
       "        0.4204506 , 0.39880392, 0.48587761, 0.4118688 , 0.4858474 ,\n",
       "        0.40741039, 0.42942357, 0.44858293, 0.41700174, 0.41069439,\n",
       "        0.46499123, 0.40628949, 0.51802633, 0.40888948, 0.46146514,\n",
       "        0.39683575, 0.41557261, 0.41519533, 0.44551397, 0.42444459,\n",
       "        0.40940087, 0.47698043, 0.41369065, 0.42922236, 0.45464937,\n",
       "        0.41840262, 0.46141427, 0.41529109, 0.41926604, 0.40824194,\n",
       "        0.42094243, 0.40920432, 0.43141306, 0.44523011, 0.42491706,\n",
       "        0.40095818, 0.41921972, 0.41209042, 0.51863041, 0.4039817 ,\n",
       "        0.46136216, 0.39902921, 0.50642046, 0.41511019, 0.45154121,\n",
       "        0.42683052, 0.40618034, 0.42121048, 0.50092276, 0.40882065,\n",
       "        0.45445153, 0.40130539, 0.51245069, 0.40766678, 0.41087189,\n",
       "        0.52449831, 0.40615863, 0.49562498, 0.40344991, 0.41110981,\n",
       "        0.42050144, 0.46497426, 0.39981795, 0.41374871, 0.46509929,\n",
       "        0.41047949, 0.50683012, 0.40489464, 0.46507963, 0.40247966,\n",
       "        0.49091771, 0.43379806, 0.41722862, 0.47698043, 0.4011639 ,\n",
       "        0.41105598, 0.53805501, 0.40909298, 0.4813756 , 0.3988431 ,\n",
       "        0.53792946, 0.40788405, 0.47694124, 0.40015912, 0.53100156,\n",
       "        0.40917113, 0.50093494, 0.4033964 , 0.4907334 , 0.41421201,\n",
       "        0.41075063, 0.4613522 , 0.40907081, 0.41681826, 0.41894908,\n",
       "        0.46504783, 0.41200971, 0.51235495, 0.39252794, 0.49063751,\n",
       "        0.41665648, 0.417403  , 0.44535165, 0.41050217, 0.42952734,\n",
       "        0.43148609, 0.41057057, 0.39598192, 0.49063751, 0.40037326,\n",
       "        0.5387513 , 0.40389001, 0.46884019, 0.41580021, 0.44191398,\n",
       "        0.41876706, 0.45132035, 0.40091629, 0.49571259, 0.39568653,\n",
       "        0.51223705, 0.47281028, 0.41699012, 0.43677041, 0.41079457,\n",
       "        0.41068363, 0.42459733, 0.50691366, 0.40527303, 0.42284241,\n",
       "        0.48132991, 0.41699012, 0.40783039, 0.40813811, 0.501046  ,\n",
       "        0.41538649, 0.40655653, 0.53100156, 0.40772142, 0.48136826,\n",
       "        0.41036381, 0.47282351, 0.41860563, 0.4065458 , 0.4174264 ,\n",
       "        0.41075063, 0.40302719, 0.41714635, 0.50119644, 0.41521919,\n",
       "        0.46139129, 0.40919305, 0.39804824, 0.49066636, 0.41526743,\n",
       "        0.53089438, 0.41714564, 0.40670233, 0.5122561 , 0.40766678,\n",
       "        0.43027696, 0.41196275, 0.51217708, 0.42115328, 0.44770452,\n",
       "        0.4190207 , 0.49085873, 0.39458992, 0.48134711, 0.41907963,\n",
       "        0.50642046, 0.40924795, 0.48585269, 0.42068832, 0.41568726,\n",
       "        0.41395524, 0.41563049, 0.41550315, 0.43154599, 0.41365548,\n",
       "        0.43142554, 0.4860101 , 0.40386971, 0.50674382, 0.39896092,\n",
       "        0.48589191, 0.48588253, 0.4172053 , 0.41406795, 0.448295  ,\n",
       "        0.42093029, 0.52532346, 0.4033964 , 0.45106135, 0.40490558,\n",
       "        0.40952941, 0.47281028, 0.40918177, 0.44003615, 0.42270885,\n",
       "        0.48596974, 0.40769974, 0.42526767, 0.42459733, 0.40143534,\n",
       "        0.41256182, 0.42928211, 0.40769974, 0.47698153, 0.4138416 ,\n",
       "        0.41514668, 0.40626802, 0.46885917, 0.40783039, 0.55286416,\n",
       "        0.461347  , 0.42048857, 0.4108277 , 0.53166377, 0.39898023,\n",
       "        0.53096735, 0.42262214]])"
      ]
     },
     "execution_count": 263,
     "metadata": {},
     "output_type": "execute_result"
    }
   ],
   "source": [
    "cmeans.pre_U"
   ]
  },
  {
   "cell_type": "code",
   "execution_count": 231,
   "metadata": {},
   "outputs": [
    {
     "data": {
      "text/plain": [
       "0.0"
      ]
     },
     "execution_count": 231,
     "metadata": {},
     "output_type": "execute_result"
    }
   ],
   "source": [
    "cmeans.estimate()\n",
    "cmeans.diff_U"
   ]
  },
  {
   "cell_type": "code",
   "execution_count": 205,
   "metadata": {},
   "outputs": [],
   "source": [
    "pre = cmeans.pre_U"
   ]
  },
  {
   "cell_type": "code",
   "execution_count": 208,
   "metadata": {},
   "outputs": [
    {
     "data": {
      "text/plain": [
       "array([[5.12003721e-01, 1.15627425e-01, 7.15832088e-01, 4.29356443e-02,\n",
       "        2.77374729e-01, 1.37750274e-02, 1.87758091e-01, 5.60030765e-01,\n",
       "        1.09143052e-01, 2.83246603e-01, 7.10905626e-03, 3.10590146e-01,\n",
       "        3.58709687e-01, 2.55799572e-01, 8.33801029e-02, 8.72887047e-01,\n",
       "        8.62026309e-01, 1.06982002e-01, 1.16493402e-01, 8.47974957e-02,\n",
       "        1.82811939e-01, 5.58978008e-01, 3.30021072e-01, 2.42050037e-01,\n",
       "        2.42047103e-02, 2.34897885e-02, 3.47060674e-01, 1.20535049e-02,\n",
       "        3.16357628e-01, 5.21987464e-01, 3.98749592e-01, 1.22971707e-03,\n",
       "        4.55669059e-01, 4.13731199e-01, 4.88620317e-01, 6.14523384e-02,\n",
       "        6.40217282e-02, 3.61082739e-01, 2.94643767e-01, 8.85886706e-01,\n",
       "        1.35899317e-02, 4.42252603e-02, 8.72943879e-01, 6.00168877e-01,\n",
       "        9.59112872e-02, 3.50826951e-01, 1.44835268e-01, 7.14878125e-01,\n",
       "        7.16275273e-01, 7.73198907e-02, 1.44094945e-01, 5.45944888e-01,\n",
       "        3.67595199e-01, 1.94793011e-01, 4.09833146e-01, 4.78359363e-01,\n",
       "        7.05134981e-01, 2.53585378e-01, 9.89003951e-02, 3.72503858e-01,\n",
       "        6.13853457e-02, 7.18819504e-01, 2.27307670e-01, 3.46774861e-01,\n",
       "        3.44285151e-02, 2.11243007e-01, 2.94481658e-01, 3.24467716e-01,\n",
       "        8.45669096e-01, 1.58669130e-01, 2.27220012e-01, 5.02088027e-01,\n",
       "        3.16719360e-01, 8.54475873e-02, 2.13678419e-02, 3.61911751e-01,\n",
       "        5.01006931e-01, 7.70572727e-01, 7.26737991e-01, 7.29864783e-01,\n",
       "        6.52833392e-01, 4.21577845e-01, 4.02099534e-01, 2.99258900e-01,\n",
       "        5.80307491e-01, 3.02248169e-01, 3.14589558e-01, 5.81166678e-01,\n",
       "        4.84740086e-01, 4.93218964e-01, 8.43281301e-01, 5.46115183e-01,\n",
       "        3.78383181e-01, 8.38254950e-01, 7.49512646e-02, 2.16950582e-01,\n",
       "        3.29642820e-01, 3.86423367e-01, 2.48611255e-01, 3.67765140e-01,\n",
       "        1.76979722e-01, 6.08963227e-01, 6.26349231e-01, 5.65692273e-01,\n",
       "        1.09521971e-01, 1.62135876e-01, 4.04208335e-01, 4.06470273e-01,\n",
       "        5.35154449e-01, 1.28599701e-01, 8.81185976e-01, 6.22702165e-02,\n",
       "        5.51911175e-01, 2.24715283e-01, 5.24539363e-01, 2.33415157e-01,\n",
       "        3.69478859e-01, 1.21719548e-01, 4.05184574e-01, 4.02145585e-01,\n",
       "        5.69175117e-01, 8.23461248e-01, 1.54726151e-01, 1.15225140e-01,\n",
       "        1.22410722e-01, 5.06078453e-01, 2.78397480e-01, 1.98265530e-01,\n",
       "        8.01729571e-03, 2.02176676e-01, 2.16150977e-01, 1.16575607e-01,\n",
       "        6.36237119e-02, 6.75731019e-03, 2.90909128e-01, 5.96547506e-01,\n",
       "        6.98218209e-01, 3.75336023e-01, 1.84213712e-01, 6.66026879e-02,\n",
       "        6.15189312e-01, 2.41792031e-01, 3.73947954e-02, 1.89613378e-02,\n",
       "        4.11602164e-01, 1.18458540e-01, 5.36512552e-01, 1.86918339e-01,\n",
       "        2.68863292e-02, 8.21104094e-01, 3.28864742e-01, 3.58136894e-01,\n",
       "        5.34014435e-01, 7.92458399e-03, 3.51877136e-01, 2.23046520e-01,\n",
       "        6.54713008e-01, 3.74850934e-01, 4.72145286e-01, 2.98949847e-01,\n",
       "        1.46749420e-01, 7.06958573e-01, 2.13223873e-01, 2.68116238e-01,\n",
       "        3.26873428e-01, 6.67567302e-01, 6.98085046e-01, 5.87179875e-02,\n",
       "        1.53072464e-01, 1.52916038e-01, 2.48708571e-01, 2.32796227e-01,\n",
       "        2.29886838e-02, 9.61984879e-02, 6.02203261e-02, 6.50946521e-01,\n",
       "        4.57383735e-01, 2.01116595e-01, 2.93569968e-01, 3.91200367e-01,\n",
       "        4.05514610e-01, 7.95853927e-01, 1.12252233e-01, 8.05647238e-01,\n",
       "        4.08687869e-01, 9.18560916e-02, 1.34263411e-01, 1.22510827e-01,\n",
       "        1.98725498e-01, 4.59898641e-01, 3.10127914e-01, 1.13273070e-01,\n",
       "        4.09254089e-02, 8.44377444e-02, 6.55800054e-01, 1.51542529e-01,\n",
       "        3.87377641e-01, 1.13221751e-02, 3.49394085e-01, 3.08125568e-01,\n",
       "        8.04457118e-01, 3.88365727e-02, 4.62737122e-01, 6.25543947e-01,\n",
       "        8.83824615e-02, 2.80038722e-01, 5.90007561e-02, 3.88398370e-01,\n",
       "        3.38334626e-01, 5.37769241e-01, 4.53265472e-02, 1.49516101e-02,\n",
       "        3.37975368e-01, 3.13996494e-01, 4.63971992e-01, 9.00273310e-01,\n",
       "        1.52818803e-01, 5.09133183e-01, 5.47736482e-01, 6.10809874e-01,\n",
       "        8.88864115e-03, 5.38441990e-01, 1.18588413e-01, 7.23293581e-01,\n",
       "        8.07731465e-03, 4.12002680e-01, 2.98007470e-01, 3.17226247e-04,\n",
       "        2.97458248e-01, 8.12264009e-01, 1.98376886e-01, 6.30168713e-01,\n",
       "        8.29253461e-01, 3.03445708e-03, 9.15985663e-01, 2.05612750e-02,\n",
       "        9.96430094e-02, 5.03000150e-01, 2.08641522e-01, 3.05859557e-01,\n",
       "        5.63938790e-01, 6.18099281e-01, 7.87322640e-01, 4.95911435e-01,\n",
       "        2.42093487e-01, 5.18346885e-02, 6.26208752e-02, 5.13856166e-01,\n",
       "        6.64799553e-02, 2.79970996e-02, 2.03143200e-01, 2.16058637e-01,\n",
       "        2.42042076e-01, 2.51411617e-01, 1.22858722e-01, 1.61918435e-02,\n",
       "        5.89722673e-01, 3.37171020e-01, 3.42222299e-01, 1.60420411e-01,\n",
       "        6.34443863e-02, 3.76543476e-01, 3.58114512e-01, 9.08696844e-02,\n",
       "        7.61109985e-01, 2.15494701e-01, 3.67185666e-01, 3.06054574e-01,\n",
       "        6.55182897e-02, 3.84430492e-01, 9.56701740e-02, 8.61238108e-02],\n",
       "       [2.96471574e-01, 2.23716572e-01, 1.88721039e-01, 2.27609824e-01,\n",
       "        3.30537558e-01, 1.54011760e-01, 7.10852329e-01, 3.80744976e-01,\n",
       "        7.64816373e-01, 1.90748188e-01, 4.63844979e-01, 3.93770770e-01,\n",
       "        3.45041095e-01, 1.39657212e-01, 7.80682075e-01, 3.54107907e-02,\n",
       "        4.97249183e-03, 1.65987027e-01, 7.95612914e-01, 1.78974116e-01,\n",
       "        1.18141123e-01, 2.40506707e-01, 4.13164684e-03, 1.63997301e-01,\n",
       "        8.77119527e-01, 3.44142469e-01, 2.70055261e-01, 7.24114081e-01,\n",
       "        1.01498144e-01, 1.38821679e-01, 3.66736258e-01, 6.84657900e-02,\n",
       "        5.50986346e-02, 4.06109607e-01, 5.62146355e-02, 3.08623645e-01,\n",
       "        8.96738719e-01, 2.68758006e-01, 2.41494530e-01, 4.92742948e-02,\n",
       "        9.63811067e-01, 7.83591790e-01, 9.91401573e-02, 1.12561955e-01,\n",
       "        5.66773276e-01, 2.99214548e-01, 6.31304648e-02, 1.07723107e-01,\n",
       "        2.68610381e-02, 8.18366074e-01, 2.39804176e-01, 4.46050998e-01,\n",
       "        2.25148772e-01, 1.58821194e-01, 2.04848028e-02, 2.28356849e-01,\n",
       "        1.66623436e-01, 1.71183939e-01, 3.04094003e-01, 1.84641160e-01,\n",
       "        2.38259902e-01, 2.46795721e-01, 3.26162907e-01, 1.62374810e-01,\n",
       "        5.77087187e-01, 4.04046073e-01, 5.32405656e-02, 5.71904511e-01,\n",
       "        1.40928122e-01, 3.79593114e-01, 6.52056188e-01, 1.89633341e-01,\n",
       "        2.02085717e-01, 5.95110751e-01, 7.26693375e-01, 1.32876797e-01,\n",
       "        4.13742852e-01, 1.07058260e-01, 2.62012740e-01, 2.67017162e-01,\n",
       "        1.13538510e-01, 1.06014624e-01, 1.73056868e-01, 6.15775300e-02,\n",
       "        3.27488218e-01, 5.47073450e-01, 5.69016050e-01, 1.32102226e-02,\n",
       "        1.33347593e-01, 3.69423242e-01, 1.28487564e-01, 3.09570702e-01,\n",
       "        2.02639289e-01, 6.17008132e-02, 3.65220438e-01, 1.99770311e-01,\n",
       "        5.01659085e-01, 5.13644119e-01, 1.05807192e-01, 3.20612812e-02,\n",
       "        1.07111658e-01, 3.38782331e-01, 1.13888595e-01, 3.74698861e-01,\n",
       "        8.38267159e-01, 1.42239157e-01, 3.53232443e-01, 4.51570395e-01,\n",
       "        4.35076415e-01, 8.24199247e-01, 1.01232194e-01, 1.14045998e-02,\n",
       "        2.05072104e-02, 8.67207573e-02, 3.61079892e-01, 6.15502113e-01,\n",
       "        3.05166682e-01, 2.09176156e-01, 3.16179934e-01, 5.35579886e-01,\n",
       "        3.38229339e-01, 1.13737961e-01, 4.41175519e-01, 8.53362053e-01,\n",
       "        7.16902418e-01, 1.37152712e-01, 1.00748169e-01, 4.69423067e-01,\n",
       "        7.68070610e-02, 3.27181533e-01, 2.42566055e-03, 4.52551882e-01,\n",
       "        2.56515788e-01, 1.64924813e-01, 4.05289248e-01, 2.60400544e-01,\n",
       "        4.53296854e-02, 3.91581052e-01, 2.38827108e-01, 8.95586522e-02,\n",
       "        9.57175877e-02, 2.27063686e-01, 1.25585777e-01, 3.85688258e-01,\n",
       "        3.02752296e-01, 9.55657961e-02, 2.86350522e-01, 7.74737728e-01,\n",
       "        8.32668139e-01, 3.05172625e-02, 4.48683127e-01, 7.73674520e-02,\n",
       "        1.30906646e-02, 4.90769528e-01, 2.16690677e-01, 1.66221142e-01,\n",
       "        2.23715054e-01, 5.93085792e-01, 5.14267677e-01, 6.09366424e-01,\n",
       "        4.47535405e-01, 2.91640488e-01, 7.15999926e-01, 3.71346458e-01,\n",
       "        2.51247160e-01, 3.06949776e-01, 8.80110495e-02, 4.51613672e-01,\n",
       "        5.19790825e-02, 1.45645670e-01, 3.76478266e-01, 3.02737674e-01,\n",
       "        8.24808879e-01, 4.64938916e-01, 3.54685068e-01, 8.75074002e-02,\n",
       "        4.08644647e-01, 9.54471222e-02, 5.73140167e-01, 1.82286915e-01,\n",
       "        1.85844801e-01, 8.32250424e-02, 8.15637666e-01, 1.07688555e-02,\n",
       "        9.68939826e-02, 8.44271505e-01, 6.16078034e-01, 8.32911429e-01,\n",
       "        2.46011616e-01, 5.12860634e-01, 6.17455910e-01, 8.11020641e-02,\n",
       "        5.17485157e-01, 6.29155934e-01, 2.83564419e-01, 3.26157040e-02,\n",
       "        1.22031637e-01, 7.99614286e-01, 3.57086367e-01, 6.83765940e-01,\n",
       "        7.29473225e-02, 4.07797562e-01, 2.24582273e-01, 3.73366968e-01,\n",
       "        7.25830394e-01, 7.17889206e-01, 3.51910799e-01, 2.75897649e-01,\n",
       "        2.87517380e-01, 5.49200376e-02, 4.13382611e-01, 3.81127662e-01,\n",
       "        8.16110824e-02, 4.74893392e-01, 5.70142817e-02, 2.55724122e-02,\n",
       "        2.66240959e-01, 2.42623267e-01, 1.80463892e-01, 2.79841839e-01,\n",
       "        5.91585088e-01, 3.11526082e-01, 4.82457150e-01, 9.27224073e-02,\n",
       "        5.39293556e-01, 1.07520154e-02, 3.51104975e-01, 6.57116587e-01,\n",
       "        2.12027066e-01, 8.56811590e-03, 4.05014462e-01, 2.23068281e-01,\n",
       "        1.04239207e-01, 5.59789355e-01, 6.68666883e-02, 6.10358573e-01,\n",
       "        3.36016080e-01, 4.40828935e-01, 6.51447646e-01, 6.31780089e-01,\n",
       "        4.10336721e-01, 2.79020116e-01, 6.65731036e-02, 4.74366679e-01,\n",
       "        5.22159173e-01, 8.57356653e-02, 2.24111338e-01, 2.24067189e-01,\n",
       "        3.32845836e-01, 3.56017602e-01, 7.31674013e-01, 3.87387533e-02,\n",
       "        3.36721846e-01, 6.42390011e-01, 4.55886106e-01, 9.59389504e-01,\n",
       "        3.08784353e-01, 4.93276504e-01, 1.48848820e-01, 4.05689801e-01,\n",
       "        3.95897803e-01, 7.02360568e-03, 4.88715561e-01, 5.80822158e-01,\n",
       "        3.08135757e-02, 5.40416213e-01, 3.02653441e-01, 4.37351177e-01,\n",
       "        3.18510942e-01, 3.05964649e-01, 4.72619979e-01, 9.11458915e-01],\n",
       "       [1.91524706e-01, 6.60656003e-01, 9.54468731e-02, 7.29454532e-01,\n",
       "        3.92087713e-01, 8.32213213e-01, 1.01389580e-01, 5.92242593e-02,\n",
       "        1.26040575e-01, 5.26005209e-01, 5.29045965e-01, 2.95639084e-01,\n",
       "        2.96249217e-01, 6.04543216e-01, 1.35937822e-01, 9.17021625e-02,\n",
       "        1.33001199e-01, 7.27030971e-01, 8.78936844e-02, 7.36228389e-01,\n",
       "        6.99046939e-01, 2.00515285e-01, 6.65847281e-01, 5.93952661e-01,\n",
       "        9.86757631e-02, 6.32367742e-01, 3.82884066e-01, 2.63832414e-01,\n",
       "        5.82144228e-01, 3.39190857e-01, 2.34514150e-01, 9.30304493e-01,\n",
       "        4.89232307e-01, 1.80159194e-01, 4.55165048e-01, 6.29924017e-01,\n",
       "        3.92395531e-02, 3.70159255e-01, 4.63861703e-01, 6.48389987e-02,\n",
       "        2.25990010e-02, 1.72182950e-01, 2.79159637e-02, 2.87269168e-01,\n",
       "        3.37315437e-01, 3.49958501e-01, 7.92034268e-01, 1.77398768e-01,\n",
       "        2.56863689e-01, 1.04314035e-01, 6.16100878e-01, 8.00411378e-03,\n",
       "        4.07256029e-01, 6.46385795e-01, 5.69682051e-01, 2.93283788e-01,\n",
       "        1.28241583e-01, 5.75230683e-01, 5.97005602e-01, 4.42854982e-01,\n",
       "        7.00354752e-01, 3.43847750e-02, 4.46529423e-01, 4.90850329e-01,\n",
       "        3.88484298e-01, 3.84710920e-01, 6.52277776e-01, 1.03627773e-01,\n",
       "        1.34027824e-02, 4.61737756e-01, 1.20723800e-01, 3.08278632e-01,\n",
       "        4.81194923e-01, 3.19441661e-01, 2.51938783e-01, 5.05211452e-01,\n",
       "        8.52502175e-02, 1.22369013e-01, 1.12492689e-02, 3.11805459e-03,\n",
       "        2.33628098e-01, 4.72407532e-01, 4.24843598e-01, 6.39163570e-01,\n",
       "        9.22042916e-02, 1.50678381e-01, 1.16394391e-01, 4.05623099e-01,\n",
       "        3.81912321e-01, 1.37357794e-01, 2.82311347e-02, 1.44314115e-01,\n",
       "        4.18977529e-01, 1.00044237e-01, 5.59828297e-01, 5.83279107e-01,\n",
       "        1.68698095e-01, 9.99325140e-02, 6.45581553e-01, 6.00173578e-01,\n",
       "        7.15908620e-01, 5.22544419e-02, 2.59762174e-01, 5.96088658e-02,\n",
       "        5.22108696e-02, 6.95624967e-01, 2.42559222e-01, 1.41959332e-01,\n",
       "        2.97691358e-02, 4.72010519e-02, 1.75818297e-02, 9.26325184e-01,\n",
       "        4.27581615e-01, 6.88563960e-01, 1.14380745e-01, 1.51082730e-01,\n",
       "        3.25354459e-01, 6.69104296e-01, 2.78635492e-01, 6.22745289e-02,\n",
       "        9.25955445e-02, 6.28007911e-02, 4.04098330e-01, 3.14128077e-02,\n",
       "        1.60686861e-01, 3.56768835e-01, 6.20854351e-01, 3.32311403e-01,\n",
       "        9.15175643e-01, 4.70641791e-01, 7.81423363e-01, 4.30872511e-01,\n",
       "        6.79860500e-01, 8.28317877e-01, 3.03801624e-01, 1.43051949e-01,\n",
       "        2.56452106e-01, 2.33082925e-01, 5.76959179e-01, 8.43838660e-01,\n",
       "        2.89093100e-01, 5.31144282e-01, 8.37019427e-01, 5.95350405e-01,\n",
       "        2.85645540e-01, 7.85975663e-01, 1.77136925e-01, 3.83439328e-02,\n",
       "        1.40445532e-01, 1.48378644e-01, 2.22452132e-01, 5.64495654e-01,\n",
       "        4.52894900e-01, 5.01305888e-01, 4.31432187e-01, 6.10732338e-01,\n",
       "        1.21571938e-01, 3.20632746e-02, 1.35870368e-02, 9.16837286e-02,\n",
       "        4.05715175e-01, 1.40093887e-03, 7.07762005e-02, 3.60537304e-01,\n",
       "        4.21879412e-01, 2.54829215e-02, 2.13903904e-01, 4.89668341e-01,\n",
       "        7.94948453e-01, 7.01438292e-01, 3.74813163e-01, 4.64466098e-01,\n",
       "        1.52202437e-01, 4.38862596e-01, 5.85094606e-01, 2.61546079e-01,\n",
       "        1.33971618e-01, 7.03436282e-01, 1.33289865e-01, 4.26512717e-01,\n",
       "        4.08640588e-01, 1.20921030e-01, 7.21101009e-02, 1.83583906e-01,\n",
       "        4.94418148e-01, 6.38724029e-02, 2.49658555e-01, 4.45777443e-02,\n",
       "        5.55262885e-01, 2.72407249e-02, 7.24161758e-02, 8.05624866e-01,\n",
       "        4.41589434e-01, 2.86406321e-01, 6.06355270e-02, 8.15841767e-01,\n",
       "        4.90590722e-01, 1.89063539e-01, 2.93519549e-01, 8.10849133e-03,\n",
       "        1.22595560e-01, 5.53365865e-01, 3.12680605e-01, 1.08908495e-03,\n",
       "        1.85787144e-01, 2.07207160e-03, 5.89088445e-01, 3.35703981e-01,\n",
       "        3.74147994e-01, 4.07310721e-01, 5.41290842e-01, 6.03920728e-01,\n",
       "        5.80413549e-01, 2.11110113e-01, 4.79013727e-01, 7.41542781e-02,\n",
       "        5.80940238e-01, 2.48243550e-01, 2.71799626e-01, 1.09348287e-01,\n",
       "        3.99526271e-01, 1.50031928e-01, 3.98954437e-01, 1.83984012e-01,\n",
       "        4.52629129e-01, 5.77245304e-01, 3.50887555e-01, 3.42566187e-01,\n",
       "        4.90514687e-01, 1.79167875e-01, 3.96608651e-01, 1.46763005e-01,\n",
       "        6.65073321e-02, 4.37176188e-01, 1.71476484e-02, 3.69080152e-01,\n",
       "        5.64340911e-01, 5.61709152e-02, 1.39910832e-01, 6.23603541e-02,\n",
       "        2.57244891e-02, 1.02880604e-01, 1.46104257e-01, 2.97218858e-02,\n",
       "        2.35747340e-01, 8.62429646e-01, 7.13267786e-01, 2.62076645e-01,\n",
       "        6.00674208e-01, 6.15985298e-01, 6.51827873e-02, 7.45202610e-01,\n",
       "        4.21236078e-01, 1.06198372e-01, 4.21255172e-01, 2.44186525e-02,\n",
       "        1.01492974e-01, 1.69552477e-01, 5.08928881e-01, 4.33889789e-01,\n",
       "        5.40657810e-01, 6.16432919e-01, 1.53169927e-01, 3.28308157e-01,\n",
       "        2.08076440e-01, 2.44089085e-01, 3.30160893e-01, 2.56594249e-01,\n",
       "        6.15970769e-01, 3.09604859e-01, 4.31709847e-01, 2.41727394e-03]])"
      ]
     },
     "execution_count": 208,
     "metadata": {},
     "output_type": "execute_result"
    }
   ],
   "source": [
    "pre"
   ]
  },
  {
   "cell_type": "code",
   "execution_count": 207,
   "metadata": {},
   "outputs": [],
   "source": [
    "cmeans.members()"
   ]
  },
  {
   "cell_type": "code",
   "execution_count": 209,
   "metadata": {},
   "outputs": [],
   "source": [
    "new = cmeans.U"
   ]
  },
  {
   "cell_type": "code",
   "execution_count": 210,
   "metadata": {},
   "outputs": [],
   "source": [
    "tmp = pre - new"
   ]
  },
  {
   "cell_type": "code",
   "execution_count": 215,
   "metadata": {},
   "outputs": [
    {
     "data": {
      "text/plain": [
       "176.8757655988455"
      ]
     },
     "execution_count": 215,
     "metadata": {},
     "output_type": "execute_result"
    }
   ],
   "source": [
    "np.absolute(tmp).sum()"
   ]
  },
  {
   "cell_type": "code",
   "execution_count": null,
   "metadata": {},
   "outputs": [],
   "source": []
  }
 ],
 "metadata": {
  "kernelspec": {
   "display_name": "Python [conda env:kMeans]",
   "language": "python",
   "name": "conda-env-kMeans-py"
  },
  "language_info": {
   "codemirror_mode": {
    "name": "ipython",
    "version": 3
   },
   "file_extension": ".py",
   "mimetype": "text/x-python",
   "name": "python",
   "nbconvert_exporter": "python",
   "pygments_lexer": "ipython3",
   "version": "3.5.4"
  },
  "toc": {
   "base_numbering": 1,
   "nav_menu": {},
   "number_sections": true,
   "sideBar": true,
   "skip_h1_title": false,
   "title_cell": "Table of Contents",
   "title_sidebar": "Contents",
   "toc_cell": false,
   "toc_position": {},
   "toc_section_display": true,
   "toc_window_display": false
  }
 },
 "nbformat": 4,
 "nbformat_minor": 2
}
