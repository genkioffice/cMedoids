{
 "cells": [
  {
   "cell_type": "code",
   "execution_count": 1,
   "metadata": {},
   "outputs": [],
   "source": [
    "import sys\n",
    "import pandas as pd\n",
    "import numpy as np\n",
    "import matplotlib \n",
    "from matplotlib import pyplot as plt\n",
    "from scipy.spatial.distance import pdist\n",
    "%matplotlib inline\n",
    "sys.path.append(\"./../model/\")\n",
    "from cmeans import cMeans"
   ]
  },
  {
   "cell_type": "markdown",
   "metadata": {},
   "source": [
    "# get initialized values"
   ]
  },
  {
   "cell_type": "code",
   "execution_count": 2,
   "metadata": {},
   "outputs": [],
   "source": [
    "def getInitValues(num,mini=-100,maxi=100):\n",
    "    centroids = []\n",
    "    if mini > maxi:\n",
    "        raise ValueError('maxi should be greater than mini')\n",
    "    else:\n",
    "        for i in range(num):\n",
    "            meanBtw = (maxi - mini)/ 2 + mini\n",
    "            distance = maxi - meanBtw\n",
    "            result = (np.random.rand(2) - 0.5) * distance * 2 + meanBtw\n",
    "            centroids.append(result)\n",
    "        return centroids"
   ]
  },
  {
   "cell_type": "code",
   "execution_count": 3,
   "metadata": {},
   "outputs": [],
   "source": [
    "data = np.loadtxt(\"../data/faithful.txt\")\n",
    "data = np.array(data).T\n",
    "#initial centroids\n",
    "centroids = getInitValues(3,mini=10,maxi=30)\n",
    "centroids = np.array(centroids).T\n",
    "# centroids = np.array(centroids)\n",
    "cmeans = cMeans(data=data,centers=centroids,weight=2)"
   ]
  },
  {
   "cell_type": "markdown",
   "metadata": {},
   "source": [
    "## shapes of arguments"
   ]
  },
  {
   "cell_type": "code",
   "execution_count": 4,
   "metadata": {},
   "outputs": [
    {
     "name": "stdout",
     "output_type": "stream",
     "text": [
      "data shape : (2, 272)\n",
      "centroids shape: (2, 3)\n"
     ]
    }
   ],
   "source": [
    "print(\"data shape : {}\".format(data.shape))\n",
    "print(\"centroids shape: {}\".format(centroids.shape))"
   ]
  },
  {
   "cell_type": "markdown",
   "metadata": {},
   "source": [
    "# cMeans"
   ]
  },
  {
   "cell_type": "code",
   "execution_count": 5,
   "metadata": {
    "scrolled": true
   },
   "outputs": [
    {
     "name": "stdout",
     "output_type": "stream",
     "text": [
      "1-th iteration\n",
      "U difference is 35.62542929764052\n",
      "2-th iteration\n",
      "U difference is 70.10191837120064\n",
      "3-th iteration\n",
      "U difference is 152.38234837006706\n",
      "4-th iteration\n",
      "U difference is 116.68720737382439\n",
      "5-th iteration\n",
      "U difference is 54.15363453038327\n",
      "6-th iteration\n",
      "U difference is 24.26982694993276\n",
      "7-th iteration\n",
      "U difference is 14.046258756964\n",
      "8-th iteration\n",
      "U difference is 10.715604024795322\n",
      "9-th iteration\n",
      "U difference is 8.361665622761187\n",
      "10-th iteration\n",
      "U difference is 6.461454064428679\n",
      "11-th iteration\n",
      "U difference is 4.913457413602745\n",
      "12-th iteration\n",
      "U difference is 3.66642420748095\n",
      "13-th iteration\n",
      "U difference is 2.6985514694534696\n",
      "14-th iteration\n",
      "U difference is 1.9673078010984302\n",
      "15-th iteration\n",
      "U difference is 1.424597800188895\n",
      "16-th iteration\n",
      "U difference is 1.027151970132897\n",
      "17-th iteration\n",
      "U difference is 0.7382990636580198\n",
      "18-th iteration\n",
      "U difference is 0.5295476252763454\n",
      "19-th iteration\n",
      "U difference is 0.37925952528526136\n",
      "20-th iteration\n",
      "U difference is 0.2701565163903822\n",
      "21-th iteration\n",
      "U difference is 0.19387120112989373\n",
      "22-th iteration\n",
      "U difference is 0.1384954600149118\n",
      "23-th iteration\n",
      "U difference is 0.09889482798630919\n",
      "24-th iteration\n",
      "U difference is 0.07059771894443359\n",
      "25-th iteration\n",
      "U difference is 0.05038755672479504\n",
      "26-th iteration\n",
      "U difference is 0.035958071981245565\n",
      "27-th iteration\n",
      "U difference is 0.025658268954796445\n",
      "28-th iteration\n",
      "U difference is 0.018307472939878413\n",
      "29-th iteration\n",
      "U difference is 0.013061955107942697\n",
      "30-th iteration\n",
      "U difference is 0.009319075721956137\n",
      "31-th iteration\n",
      "U difference is 0.006648546592242825\n",
      "32-th iteration\n",
      "U difference is 0.004743216107130183\n",
      "33-th iteration\n",
      "U difference is 0.0033838697081251005\n",
      "34-th iteration\n",
      "U difference is 0.0024140732835744166\n",
      "35-th iteration\n",
      "U difference is 0.0017222035588476692\n",
      "36-th iteration\n",
      "U difference is 0.00122861702945382\n",
      "37-th iteration\n",
      "U difference is 0.0008764903927670879\n"
     ]
    }
   ],
   "source": [
    "# U difference is a difference btw U(k+1) - U(k), where U() is a membership for each data and cluster\n",
    "cmeans.fit()"
   ]
  },
  {
   "cell_type": "code",
   "execution_count": 6,
   "metadata": {},
   "outputs": [
    {
     "data": {
      "image/png": "[encoded data removed]",
      "text/plain": [
       "<Figure size 864x576 with 1 Axes>"
      ]
     },
     "metadata": {
      "needs_background": "light"
     },
     "output_type": "display_data"
    }
   ],
   "source": [
    "plt.figure(figsize=(12,8))\n",
    "plt.scatter(data[0,:],data[1,:])\n",
    "plt.scatter(cmeans.new_centers[0,:],cmeans.new_centers[1,:])\n",
    "plt.title(\"c-means for 2-dim data\",size=20)\n",
    "plt.show()"
   ]
  },
  {
   "cell_type": "code",
   "execution_count": 10,
   "metadata": {},
   "outputs": [
    {
     "data": {
      "text/plain": [
       "array([[0.34069288],\n",
       "       [0.42631044],\n",
       "       [0.23299668]])"
      ]
     },
     "execution_count": 10,
     "metadata": {},
     "output_type": "execute_result"
    }
   ],
   "source": [
    "sample = np.array([1,2]).T\n",
    "np.array(cmeans.new_member(np.array([1,2]).T))"
   ]
  },
  {
   "cell_type": "code",
   "execution_count": null,
   "metadata": {},
   "outputs": [],
   "source": []
  }
 ],
 "metadata": {
  "kernelspec": {
   "display_name": "Python 3",
   "language": "python",
   "name": "python3"
  },
  "language_info": {
   "codemirror_mode": {
    "name": "ipython",
    "version": 3
   },
   "file_extension": ".py",
   "mimetype": "text/x-python",
   "name": "python",
   "nbconvert_exporter": "python",
   "pygments_lexer": "ipython3",
   "version": "3.5.4"
  },
  "toc": {
   "base_numbering": 1,
   "nav_menu": {},
   "number_sections": true,
   "sideBar": true,
   "skip_h1_title": false,
   "title_cell": "Table of Contents",
   "title_sidebar": "Contents",
   "toc_cell": false,
   "toc_position": {},
   "toc_section_display": true,
   "toc_window_display": false
  }
 },
 "nbformat": 4,
 "nbformat_minor": 2
}
