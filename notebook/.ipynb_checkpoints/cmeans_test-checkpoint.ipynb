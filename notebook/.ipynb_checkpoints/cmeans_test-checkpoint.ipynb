{
 "cells": [
  {
   "cell_type": "code",
   "execution_count": 1,
   "metadata": {},
   "outputs": [],
   "source": [
    "import sys\n",
    "import pandas as pd\n",
    "import numpy as np\n",
    "import matplotlib \n",
    "from matplotlib import pyplot as plt\n",
    "from scipy.spatial.distance import pdist\n",
    "%matplotlib inline\n",
    "sys.path.append(\"./../model/\")\n",
    "from cmeans import cMeans"
   ]
  },
  {
   "cell_type": "markdown",
   "metadata": {},
   "source": [
    "# get initialized values"
   ]
  },
  {
   "cell_type": "code",
   "execution_count": 2,
   "metadata": {},
   "outputs": [],
   "source": [
    "def getInitValues(num,mini=-100,maxi=100):\n",
    "    centroids = []\n",
    "    if mini > maxi:\n",
    "        raise ValueError('maxi should be greater than mini')\n",
    "    else:\n",
    "        for i in range(num):\n",
    "            meanBtw = (maxi - mini)/ 2 + mini\n",
    "            distance = maxi - meanBtw\n",
    "            result = (np.random.rand(2) - 0.5) * distance * 2 + meanBtw\n",
    "            centroids.append(result)\n",
    "        return centroids"
   ]
  },
  {
   "cell_type": "code",
   "execution_count": 3,
   "metadata": {},
   "outputs": [],
   "source": [
    "data = np.loadtxt(\"../data/faithful.txt\")\n",
    "data = np.array(data).T\n",
    "#initial centroids\n",
    "centroids = getInitValues(3,mini=10,maxi=30)\n",
    "centroids = np.array(centroids).T\n",
    "# centroids = np.array(centroids)\n",
    "cmeans = cMeans(data=data,centers=centroids,weight=2)"
   ]
  },
  {
   "cell_type": "markdown",
   "metadata": {},
   "source": [
    "## shapes of arguments"
   ]
  },
  {
   "cell_type": "code",
   "execution_count": 4,
   "metadata": {},
   "outputs": [
    {
     "name": "stdout",
     "output_type": "stream",
     "text": [
      "data shape : (2, 272)\n",
      "centroids shape: (2, 3)\n"
     ]
    }
   ],
   "source": [
    "print(\"data shape : {}\".format(data.shape))\n",
    "print(\"centroids shape: {}\".format(centroids.shape))"
   ]
  },
  {
   "cell_type": "markdown",
   "metadata": {},
   "source": [
    "# cMeans"
   ]
  },
  {
   "cell_type": "code",
   "execution_count": 5,
   "metadata": {
    "scrolled": true
   },
   "outputs": [
    {
     "name": "stdout",
     "output_type": "stream",
     "text": [
      "1-th iteration\n",
      "U difference is 47.13230295533572\n",
      "2-th iteration\n",
      "U difference is 95.36213042631692\n",
      "3-th iteration\n",
      "U difference is 115.17642834768961\n",
      "4-th iteration\n",
      "U difference is 74.19925309467787\n",
      "5-th iteration\n",
      "U difference is 49.21841073702247\n",
      "6-th iteration\n",
      "U difference is 27.606030695766144\n",
      "7-th iteration\n",
      "U difference is 15.517239331842825\n",
      "8-th iteration\n",
      "U difference is 10.07312667567597\n",
      "9-th iteration\n",
      "U difference is 8.653883432751272\n",
      "10-th iteration\n",
      "U difference is 8.098220020143161\n",
      "11-th iteration\n",
      "U difference is 7.925680463909163\n",
      "12-th iteration\n",
      "U difference is 8.039050438050342\n",
      "13-th iteration\n",
      "U difference is 8.340963574894861\n",
      "14-th iteration\n",
      "U difference is 8.836990611508249\n",
      "15-th iteration\n",
      "U difference is 9.478886299963214\n",
      "16-th iteration\n",
      "U difference is 10.193018114467712\n",
      "17-th iteration\n",
      "U difference is 10.896987100474993\n",
      "18-th iteration\n",
      "U difference is 11.514809600082943\n",
      "19-th iteration\n",
      "U difference is 11.913595970143401\n",
      "20-th iteration\n",
      "U difference is 11.983538279072675\n",
      "21-th iteration\n",
      "U difference is 11.682663519159473\n",
      "22-th iteration\n",
      "U difference is 10.881305433617317\n",
      "23-th iteration\n",
      "U difference is 9.674523150014359\n",
      "24-th iteration\n",
      "U difference is 8.30057707606705\n",
      "25-th iteration\n",
      "U difference is 6.8743406508990486\n",
      "26-th iteration\n",
      "U difference is 5.506907169200806\n",
      "27-th iteration\n",
      "U difference is 4.323619095142915\n",
      "28-th iteration\n",
      "U difference is 3.33623126401669\n",
      "29-th iteration\n",
      "U difference is 2.53710534709154\n",
      "30-th iteration\n",
      "U difference is 1.909516095359097\n",
      "31-th iteration\n",
      "U difference is 1.4266488429366313\n",
      "32-th iteration\n",
      "U difference is 1.0603469353583002\n",
      "33-th iteration\n",
      "U difference is 0.7851828243627323\n",
      "34-th iteration\n",
      "U difference is 0.5798867892832007\n",
      "35-th iteration\n",
      "U difference is 0.4274536873732864\n",
      "36-th iteration\n",
      "U difference is 0.31465765815872715\n",
      "37-th iteration\n",
      "U difference is 0.23139575381571242\n",
      "38-th iteration\n",
      "U difference is 0.17004288929414663\n",
      "39-th iteration\n",
      "U difference is 0.12489150316323772\n",
      "40-th iteration\n",
      "U difference is 0.09169390473790727\n",
      "41-th iteration\n",
      "U difference is 0.06730171719544975\n",
      "42-th iteration\n",
      "U difference is 0.04938814035383475\n",
      "43-th iteration\n",
      "U difference is 0.03623714323620953\n",
      "44-th iteration\n",
      "U difference is 0.026585047991112998\n",
      "45-th iteration\n",
      "U difference is 0.019502304732226153\n",
      "46-th iteration\n",
      "U difference is 0.014305688820049445\n",
      "47-th iteration\n",
      "U difference is 0.010493317310028085\n",
      "48-th iteration\n",
      "U difference is 0.007696673297044948\n",
      "49-th iteration\n",
      "U difference is 0.005645250156659596\n",
      "50-th iteration\n",
      "U difference is 0.004140529846819326\n",
      "51-th iteration\n",
      "U difference is 0.0030368491045513818\n",
      "52-th iteration\n",
      "U difference is 0.002227340024584254\n",
      "53-th iteration\n",
      "U difference is 0.0016336044450437014\n",
      "54-th iteration\n",
      "U difference is 0.0011981333278825224\n",
      "55-th iteration\n",
      "U difference is 0.0008787428803630043\n"
     ]
    }
   ],
   "source": [
    "# U difference is a difference btw U(k+1) - U(k), where U() is a membership for each data and cluster\n",
    "cmeans.fit()"
   ]
  },
  {
   "cell_type": "code",
   "execution_count": 6,
   "metadata": {},
   "outputs": [
    {
     "data": {
      "image/png": "[encoded data removed]",
      "text/plain": [
       "<Figure size 864x576 with 1 Axes>"
      ]
     },
     "metadata": {
      "needs_background": "light"
     },
     "output_type": "display_data"
    }
   ],
   "source": [
    "plt.figure(figsize=(12,8))\n",
    "plt.scatter(data[0,:],data[1,:])\n",
    "plt.scatter(cmeans.new_centers[0,:],cmeans.new_centers[1,:])\n",
    "plt.title(\"c-means for 2-dim data\",size=20)\n",
    "plt.show()"
   ]
  },
  {
   "cell_type": "code",
   "execution_count": null,
   "metadata": {},
   "outputs": [],
   "source": []
  }
 ],
 "metadata": {
  "kernelspec": {
   "display_name": "Python [conda env:kMeans]",
   "language": "python",
   "name": "conda-env-kMeans-py"
  },
  "language_info": {
   "codemirror_mode": {
    "name": "ipython",
    "version": 3
   },
   "file_extension": ".py",
   "mimetype": "text/x-python",
   "name": "python",
   "nbconvert_exporter": "python",
   "pygments_lexer": "ipython3",
   "version": "3.5.4"
  },
  "toc": {
   "base_numbering": 1,
   "nav_menu": {},
   "number_sections": true,
   "sideBar": true,
   "skip_h1_title": false,
   "title_cell": "Table of Contents",
   "title_sidebar": "Contents",
   "toc_cell": false,
   "toc_position": {},
   "toc_section_display": true,
   "toc_window_display": false
  }
 },
 "nbformat": 4,
 "nbformat_minor": 2
}
