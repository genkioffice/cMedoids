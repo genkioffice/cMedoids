{
 "cells": [
  {
   "cell_type": "markdown",
   "metadata": {},
   "source": [
    "# implement c-means"
   ]
  },
  {
   "cell_type": "code",
   "execution_count": 38,
   "metadata": {},
   "outputs": [],
   "source": [
    "import sys\n",
    "import pandas as pd\n",
    "import numpy as np\n",
    "from  scipy.spatial.distance import pdist\n",
    "import matplotlib \n",
    "from matplotlib import pyplot as plt\n",
    "from scipy.spatial.distance import pdist\n",
    "%matplotlib inline\n",
    "sys.path.append(\"./../model/\")\n",
    "# from kmeans import kmeans"
   ]
  },
  {
   "cell_type": "code",
   "execution_count": 120,
   "metadata": {},
   "outputs": [],
   "source": [
    "class cMeans(object):\n",
    "    def __init__(self,data,centers,weight):\n",
    "        self.centers = centers #列が各データで、行が各センターを表す\n",
    "        self.pre_centers = centers # 評価関数で比較するために前のcentersをとっておく\n",
    "        self.new_centers = np.zeros(self.centers.shape) #更新するためのcenters\n",
    "        self.numC = self.centers.shape[1] #centerの列の数を表す\n",
    "        self.data = data # 要素* データ数(列ベクトル)\n",
    "        self.numD = self.data.shape[1] #dataの列にデータの個数が来る\n",
    "        self.U = np.random.dirichlet(np.ones(self.numC),size=self.numD).T # numC行, numD列 縦にsumすると1.0である\n",
    "        self.m = weight\n",
    "\n",
    "    # calculate means\n",
    "    def means(self):\n",
    "        for i in range(self.numC):\n",
    "            upper_sum = []\n",
    "            under_sum = []\n",
    "            for k in range(self.numD):\n",
    "                upper_sum.append((self.U[i][k] **self.m)* self.data[:,k])\n",
    "                under_sum.append(self.U[i][k] **self.m)\n",
    "            result = (sum(upper_sum))/ (sum(under_sum))\n",
    "            self.new_centers[:,i] = result #new_centersのi列にi番目のclusterセンターを代入\n",
    "        return None\n",
    "                \n",
    "                \n",
    "    # membership \n",
    "    def members(self):\n",
    "        for k in range(self.numD):\n",
    "            for i in range(self.numC):\n",
    "                sum_tmp_0 = []\n",
    "                for j in range(self.numC):\n",
    "                    under = self.dist(self.data[:,k] - self.centers[:,j]) #d_jk\n",
    "                    upper = self.dist(self.data[:,k] - self.centers[:,i]) #d_ik... j_for文内で定数\n",
    "                    tmp_0 = (upper/under) ** (2/(self.m-1))\n",
    "                    sum_tmp_0.append(tmp_0)\n",
    "                result = (sum(sum_tmp_0)) ** (-1)\n",
    "                self.U[i][k] = result\n",
    "        return None\n",
    "\n",
    "    \n",
    "    # 引き数は計算済みのmatrix\n",
    "    def dist(self,matrix):\n",
    "        # return norm\n",
    "        return pdist(matrix,'minkowski', 2) \n",
    "    \n",
    "    \n",
    "    \n",
    "    def getBestMedoidsAll(self,medoids):\n",
    "        #全データからセントロイドまでの距離を測り、最短のものを返す。\n",
    "        pair = []\n",
    "        self.r = np.zeros([data.shape[0],self.init.shape[0]])\n",
    "        for n_data in range(len(self.data)):\n",
    "            iClu = self._getBestMedoids(one_data=data[n_data],medoids=medoids)\n",
    "            #Rの更新を行う\n",
    "            self.r[n_data,iClu-1] = 1\n",
    "        return None\n",
    "\n",
    "    \n",
    "    def _getBestMedoids(self,one_data,medoids):\n",
    "        #各点からセントロイドまでの距離を測って、最小のものを取り出す。\n",
    "        tmp = []\n",
    "        for j in range(len(medoids)):\n",
    "            dis = self._distance(one_data,medoids[j])\n",
    "            tmp.append(dis)\n",
    "        result = min(tmp)\n",
    "        index = tmp.index(result)\n",
    "        return index\n"
   ]
  },
  {
   "cell_type": "code",
   "execution_count": 117,
   "metadata": {},
   "outputs": [],
   "source": [
    "def _getInitValues(num,mini=-100,maxi=100):\n",
    "    centroids = []\n",
    "    if mini > maxi:\n",
    "        raise ValueError('maxi should be greater than mini')\n",
    "    else:\n",
    "        for i in range(num):\n",
    "            meanBtw = (maxi - mini)/ 2 + mini\n",
    "            distance = maxi - meanBtw\n",
    "            result = (np.random.rand(2) - 0.5) * distance * 2 + meanBtw\n",
    "            centroids.append(result)\n",
    "        return centroids"
   ]
  },
  {
   "cell_type": "code",
   "execution_count": 122,
   "metadata": {
    "scrolled": true
   },
   "outputs": [],
   "source": [
    "data = np.loadtxt(\"../data/faithful.txt\")\n",
    "data = np.array(data).T\n",
    "#initial centroids\n",
    "centroids = _getInitValues(3,mini=10,maxi=30)\n",
    "centroids = np.array(centroids).T\n",
    "# centroids = np.array(centroids)\n",
    "cmeans = cMeans(data=data,centers=centroids,weight=2)"
   ]
  },
  {
   "cell_type": "code",
   "execution_count": 123,
   "metadata": {},
   "outputs": [
    {
     "ename": "NameError",
     "evalue": "name 'result' is not defined",
     "output_type": "error",
     "traceback": [
      "\u001b[0;31m---------------------------------------------------------------------------\u001b[0m",
      "\u001b[0;31mNameError\u001b[0m                                 Traceback (most recent call last)",
      "\u001b[0;32m<ipython-input-123-988d6ce0f996>\u001b[0m in \u001b[0;36m<module>\u001b[0;34m()\u001b[0m\n\u001b[0;32m----> 1\u001b[0;31m \u001b[0mcmeans\u001b[0m\u001b[0;34m.\u001b[0m\u001b[0mmeans\u001b[0m\u001b[0;34m(\u001b[0m\u001b[0;34m)\u001b[0m\u001b[0;34m\u001b[0m\u001b[0m\n\u001b[0m",
      "\u001b[0;32m<ipython-input-120-a1c18be3202a>\u001b[0m in \u001b[0;36mmeans\u001b[0;34m(self)\u001b[0m\n\u001b[1;32m     18\u001b[0m                 \u001b[0mupper_sum\u001b[0m\u001b[0;34m.\u001b[0m\u001b[0mappend\u001b[0m\u001b[0;34m(\u001b[0m\u001b[0;34m(\u001b[0m\u001b[0mself\u001b[0m\u001b[0;34m.\u001b[0m\u001b[0mU\u001b[0m\u001b[0;34m[\u001b[0m\u001b[0mi\u001b[0m\u001b[0;34m]\u001b[0m\u001b[0;34m[\u001b[0m\u001b[0mk\u001b[0m\u001b[0;34m]\u001b[0m \u001b[0;34m**\u001b[0m\u001b[0mself\u001b[0m\u001b[0;34m.\u001b[0m\u001b[0mm\u001b[0m\u001b[0;34m)\u001b[0m\u001b[0;34m*\u001b[0m \u001b[0mself\u001b[0m\u001b[0;34m.\u001b[0m\u001b[0mdata\u001b[0m\u001b[0;34m[\u001b[0m\u001b[0;34m:\u001b[0m\u001b[0;34m,\u001b[0m\u001b[0mk\u001b[0m\u001b[0;34m]\u001b[0m\u001b[0;34m)\u001b[0m\u001b[0;34m\u001b[0m\u001b[0m\n\u001b[1;32m     19\u001b[0m                 \u001b[0munder_sum\u001b[0m\u001b[0;34m.\u001b[0m\u001b[0mappend\u001b[0m\u001b[0;34m(\u001b[0m\u001b[0mself\u001b[0m\u001b[0;34m.\u001b[0m\u001b[0mU\u001b[0m\u001b[0;34m[\u001b[0m\u001b[0mi\u001b[0m\u001b[0;34m]\u001b[0m\u001b[0;34m[\u001b[0m\u001b[0mk\u001b[0m\u001b[0;34m]\u001b[0m \u001b[0;34m**\u001b[0m\u001b[0mself\u001b[0m\u001b[0;34m.\u001b[0m\u001b[0mm\u001b[0m\u001b[0;34m)\u001b[0m\u001b[0;34m\u001b[0m\u001b[0m\n\u001b[0;32m---> 20\u001b[0;31m             \u001b[0mself\u001b[0m\u001b[0;34m.\u001b[0m\u001b[0mnew_centers\u001b[0m\u001b[0;34m[\u001b[0m\u001b[0;34m:\u001b[0m\u001b[0;34m,\u001b[0m\u001b[0mi\u001b[0m\u001b[0;34m]\u001b[0m \u001b[0;34m=\u001b[0m \u001b[0mresult\u001b[0m \u001b[0;31m#new_centersのi列にi番目のclusterセンターを代入\u001b[0m\u001b[0;34m\u001b[0m\u001b[0m\n\u001b[0m\u001b[1;32m     21\u001b[0m         \u001b[0;32mreturn\u001b[0m \u001b[0;32mNone\u001b[0m\u001b[0;34m\u001b[0m\u001b[0m\n\u001b[1;32m     22\u001b[0m \u001b[0;34m\u001b[0m\u001b[0m\n",
      "\u001b[0;31mNameError\u001b[0m: name 'result' is not defined"
     ]
    }
   ],
   "source": [
    "cmeans.means()"
   ]
  },
  {
   "cell_type": "code",
   "execution_count": 115,
   "metadata": {
    "scrolled": true
   },
   "outputs": [
    {
     "data": {
      "text/plain": [
       "array([ 3.6, 79. ])"
      ]
     },
     "execution_count": 115,
     "metadata": {},
     "output_type": "execute_result"
    }
   ],
   "source": [
    "cmeans.data[:,0]"
   ]
  },
  {
   "cell_type": "code",
   "execution_count": 110,
   "metadata": {
    "scrolled": true
   },
   "outputs": [
    {
     "data": {
      "text/plain": [
       "(2, 3)"
      ]
     },
     "execution_count": 110,
     "metadata": {},
     "output_type": "execute_result"
    }
   ],
   "source": [
    "cmeans.centers.shape"
   ]
  },
  {
   "cell_type": "code",
   "execution_count": 100,
   "metadata": {},
   "outputs": [
    {
     "data": {
      "text/plain": [
       "array([-19.48412733,  65.34803276])"
      ]
     },
     "execution_count": 100,
     "metadata": {},
     "output_type": "execute_result"
    }
   ],
   "source": [
    "cmeans.data[0,:] - cmeans.centers[:,0]"
   ]
  },
  {
   "cell_type": "code",
   "execution_count": 99,
   "metadata": {
    "scrolled": true
   },
   "outputs": [
    {
     "data": {
      "text/plain": [
       "array([3.6  , 1.8  , 3.333, 2.283, 4.533, 2.883, 4.7  , 3.6  , 1.95 ,\n",
       "       4.35 , 1.833, 3.917, 4.2  , 1.75 , 4.7  , 2.167, 1.75 , 4.8  ,\n",
       "       1.6  , 4.25 , 1.8  , 1.75 , 3.45 , 3.067, 4.533, 3.6  , 1.967,\n",
       "       4.083, 3.85 , 4.433, 4.3  , 4.467, 3.367, 4.033, 3.833, 2.017,\n",
       "       1.867, 4.833, 1.833, 4.783, 4.35 , 1.883, 4.567, 1.75 , 4.533,\n",
       "       3.317, 3.833, 2.1  , 4.633, 2.   , 4.8  , 4.716, 1.833, 4.833,\n",
       "       1.733, 4.883, 3.717, 1.667, 4.567, 4.317, 2.233, 4.5  , 1.75 ,\n",
       "       4.8  , 1.817, 4.4  , 4.167, 4.7  , 2.067, 4.7  , 4.033, 1.967,\n",
       "       4.5  , 4.   , 1.983, 5.067, 2.017, 4.567, 3.883, 3.6  , 4.133,\n",
       "       4.333, 4.1  , 2.633, 4.067, 4.933, 3.95 , 4.517, 2.167, 4.   ,\n",
       "       2.2  , 4.333, 1.867, 4.817, 1.833, 4.3  , 4.667, 3.75 , 1.867,\n",
       "       4.9  , 2.483, 4.367, 2.1  , 4.5  , 4.05 , 1.867, 4.7  , 1.783,\n",
       "       4.85 , 3.683, 4.733, 2.3  , 4.9  , 4.417, 1.7  , 4.633, 2.317,\n",
       "       4.6  , 1.817, 4.417, 2.617, 4.067, 4.25 , 1.967, 4.6  , 3.767,\n",
       "       1.917, 4.5  , 2.267, 4.65 , 1.867, 4.167, 2.8  , 4.333, 1.833,\n",
       "       4.383, 1.883, 4.933, 2.033, 3.733, 4.233, 2.233, 4.533, 4.817,\n",
       "       4.333, 1.983, 4.633, 2.017, 5.1  , 1.8  , 5.033, 4.   , 2.4  ,\n",
       "       4.6  , 3.567, 4.   , 4.5  , 4.083, 1.8  , 3.967, 2.2  , 4.15 ,\n",
       "       2.   , 3.833, 3.5  , 4.583, 2.367, 5.   , 1.933, 4.617, 1.917,\n",
       "       2.083, 4.583, 3.333, 4.167, 4.333, 4.5  , 2.417, 4.   , 4.167,\n",
       "       1.883, 4.583, 4.25 , 3.767, 2.033, 4.433, 4.083, 1.833, 4.417,\n",
       "       2.183, 4.8  , 1.833, 4.8  , 4.1  , 3.966, 4.233, 3.5  , 4.366,\n",
       "       2.25 , 4.667, 2.1  , 4.35 , 4.133, 1.867, 4.6  , 1.783, 4.367,\n",
       "       3.85 , 1.933, 4.5  , 2.383, 4.7  , 1.867, 3.833, 3.417, 4.233,\n",
       "       2.4  , 4.8  , 2.   , 4.15 , 1.867, 4.267, 1.75 , 4.483, 4.   ,\n",
       "       4.117, 4.083, 4.267, 3.917, 4.55 , 4.083, 2.417, 4.183, 2.217,\n",
       "       4.45 , 1.883, 1.85 , 4.283, 3.95 , 2.333, 4.15 , 2.35 , 4.933,\n",
       "       2.9  , 4.583, 3.833, 2.083, 4.367, 2.133, 4.35 , 2.2  , 4.45 ,\n",
       "       3.567, 4.5  , 4.15 , 3.817, 3.917, 4.45 , 2.   , 4.283, 4.767,\n",
       "       4.533, 1.85 , 4.25 , 1.983, 2.25 , 4.75 , 4.117, 2.15 , 4.417,\n",
       "       1.817, 4.467])"
      ]
     },
     "execution_count": 99,
     "metadata": {},
     "output_type": "execute_result"
    }
   ],
   "source": [
    "cmeans.data[:,0]"
   ]
  },
  {
   "cell_type": "code",
   "execution_count": null,
   "metadata": {},
   "outputs": [],
   "source": []
  }
 ],
 "metadata": {
  "kernelspec": {
   "display_name": "Python [conda env:kMeans]",
   "language": "python",
   "name": "conda-env-kMeans-py"
  },
  "language_info": {
   "codemirror_mode": {
    "name": "ipython",
    "version": 3
   },
   "file_extension": ".py",
   "mimetype": "text/x-python",
   "name": "python",
   "nbconvert_exporter": "python",
   "pygments_lexer": "ipython3",
   "version": "3.5.4"
  },
  "toc": {
   "base_numbering": 1,
   "nav_menu": {},
   "number_sections": true,
   "sideBar": true,
   "skip_h1_title": false,
   "title_cell": "Table of Contents",
   "title_sidebar": "Contents",
   "toc_cell": false,
   "toc_position": {},
   "toc_section_display": true,
   "toc_window_display": false
  }
 },
 "nbformat": 4,
 "nbformat_minor": 2
}
